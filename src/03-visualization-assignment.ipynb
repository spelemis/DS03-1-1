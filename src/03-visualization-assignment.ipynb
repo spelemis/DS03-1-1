{
 "cells": [
  {
   "cell_type": "markdown",
   "metadata": {
    "jupyter": {
     "outputs_hidden": true
    }
   },
   "source": [
    "# Задание"
   ]
  },
  {
   "cell_type": "code",
   "execution_count": 19,
   "metadata": {},
   "outputs": [],
   "source": [
    "import pandas as pd \n",
    "import matplotlib.pyplot as plt\n",
    "import io\n",
    "import xml.etree.ElementTree as ET\n",
    "from matplotlib.patches import Shadow\n",
    "\n",
    "from pylab import rcParams\n",
    "rcParams['figure.figsize'] = 15,10\n",
    "import pandas as pd\n",
    "import numpy as np\n",
    "import seaborn as sns\n",
    "import matplotlib.pyplot as plt\n",
    "import plotly.graph_objects as go\n"
   ]
  },
  {
   "cell_type": "code",
   "execution_count": 2,
   "metadata": {},
   "outputs": [
    {
     "data": {
      "text/html": [
       "<div>\n",
       "<style scoped>\n",
       "    .dataframe tbody tr th:only-of-type {\n",
       "        vertical-align: middle;\n",
       "    }\n",
       "\n",
       "    .dataframe tbody tr th {\n",
       "        vertical-align: top;\n",
       "    }\n",
       "\n",
       "    .dataframe thead th {\n",
       "        text-align: right;\n",
       "    }\n",
       "</style>\n",
       "<table border=\"1\" class=\"dataframe\">\n",
       "  <thead>\n",
       "    <tr style=\"text-align: right;\">\n",
       "      <th></th>\n",
       "      <th>&lt;!doctype html&gt;&lt;html&gt;&lt;head&gt;&lt;meta charset=\"utf-8\"&gt;&lt;meta name=\"viewport\" content=\"width=device-width</th>\n",
       "      <th>height=device-height</th>\n",
       "      <th>initial-scale=1</th>\n",
       "      <th>user-scalable=no</th>\n",
       "      <th>maximum-scale=1\"&gt;&lt;meta http-equiv=\"X-UA-Compatible\" content=\"IE=EmulateIE9\"&gt;&lt;title&gt;Диск&lt;/title&gt;&lt;meta name=\"robots\" content=\"noindex\"/&gt;&lt;link rel=\"stylesheet\" href=\"/styles/style.css\"&gt;&lt;link rel=\"stylesheet\" href=\"/styles/noscriptPlug.css\"&gt;&lt;link rel=\"manifest\" href=\"/manifest.json\"&gt;&lt;link rel=\"apple-touch-icon\" sizes=\"72x72\" href=\"/icons/icon-72x72.png\"&gt;&lt;link rel=\"apple-touch-icon\" sizes=\"76x76\" href=\"/icons/icon-96x96.png\"&gt;&lt;link rel=\"apple-touch-icon\" sizes=\"114x114\" href=\"/icons/icon-128x128.png\"&gt;&lt;link rel=\"apple-touch-icon\" sizes=\"120x120\" href=\"/icons/icon-128x128.png\"&gt;&lt;link rel=\"apple-touch-icon\" sizes=\"144x144\" href=\"/icons/icon-144x144.png\"&gt;&lt;link rel=\"apple-touch-icon\" sizes=\"152x152\" href=\"/icons/icon-152x152.png\"&gt;&lt;link rel=\"apple-touch-icon\" sizes=\"180x180\" href=\"/icons/icon-192x192.png\"&gt;&lt;meta name=\"msapplication-TileColor\" content=\"#ffffff\"&gt;&lt;meta name=\"theme-color\" content=\"#ffffff\"&gt;&lt;script async src=\"https://www.googletagmanager.com/gtag/js?id=G-7QWGYEE7YS\"&gt;&lt;/script&gt;&lt;script&gt;window.dataLayer = window.dataLayer || [];</th>\n",
       "    </tr>\n",
       "  </thead>\n",
       "  <tbody>\n",
       "    <tr>\n",
       "      <th>0</th>\n",
       "      <td>function gtag(){ window.dataLayer....</td>\n",
       "      <td>NaN</td>\n",
       "      <td>NaN</td>\n",
       "      <td>NaN</td>\n",
       "      <td>NaN</td>\n",
       "    </tr>\n",
       "    <tr>\n",
       "      <th>1</th>\n",
       "      <td>gtag('js'</td>\n",
       "      <td>new Date());</td>\n",
       "      <td>NaN</td>\n",
       "      <td>NaN</td>\n",
       "      <td>NaN</td>\n",
       "    </tr>\n",
       "    <tr>\n",
       "      <th>2</th>\n",
       "      <td>gtag('config'</td>\n",
       "      <td>'G-7QWGYEE7YS');</td>\n",
       "      <td>NaN</td>\n",
       "      <td>NaN</td>\n",
       "      <td>NaN</td>\n",
       "    </tr>\n",
       "    <tr>\n",
       "      <th>3</th>\n",
       "      <td>window.gtag = gtag;&lt;/script&gt;&lt;link ...</td>\n",
       "      <td>чтобы использовать Диск&lt;/p&gt;&lt;form action=\"http...</td>\n",
       "      <td>NaN</td>\n",
       "      <td>NaN</td>\n",
       "      <td>NaN</td>\n",
       "    </tr>\n",
       "    <tr>\n",
       "      <th>4</th>\n",
       "      <td>&lt;link rel=\"stylesheet\" type=\"text/...</td>\n",
       "      <td>NaN</td>\n",
       "      <td>NaN</td>\n",
       "      <td>NaN</td>\n",
       "      <td>NaN</td>\n",
       "    </tr>\n",
       "    <tr>\n",
       "      <th>5</th>\n",
       "      <td>&lt;div class=\"ie9Plug\"&gt;</td>\n",
       "      <td>NaN</td>\n",
       "      <td>NaN</td>\n",
       "      <td>NaN</td>\n",
       "      <td>NaN</td>\n",
       "    </tr>\n",
       "    <tr>\n",
       "      <th>6</th>\n",
       "      <td>&lt;img class=\"ie9Plug__logo\" src...</td>\n",
       "      <td>NaN</td>\n",
       "      <td>NaN</td>\n",
       "      <td>NaN</td>\n",
       "      <td>NaN</td>\n",
       "    </tr>\n",
       "    <tr>\n",
       "      <th>7</th>\n",
       "      <td>&lt;div class=\"ie9Plug__content\"&gt;</td>\n",
       "      <td>NaN</td>\n",
       "      <td>NaN</td>\n",
       "      <td>NaN</td>\n",
       "      <td>NaN</td>\n",
       "    </tr>\n",
       "    <tr>\n",
       "      <th>8</th>\n",
       "      <td>&lt;img class=\"ie9Plug__error...</td>\n",
       "      <td>NaN</td>\n",
       "      <td>NaN</td>\n",
       "      <td>NaN</td>\n",
       "      <td>NaN</td>\n",
       "    </tr>\n",
       "    <tr>\n",
       "      <th>9</th>\n",
       "      <td>&lt;p class=\"ie9Plug__title\"&gt;...</td>\n",
       "      <td>NaN</td>\n",
       "      <td>NaN</td>\n",
       "      <td>NaN</td>\n",
       "      <td>NaN</td>\n",
       "    </tr>\n",
       "    <tr>\n",
       "      <th>10</th>\n",
       "      <td>&lt;div class=\"ie9Plug__descr...</td>\n",
       "      <td>NaN</td>\n",
       "      <td>NaN</td>\n",
       "      <td>NaN</td>\n",
       "      <td>NaN</td>\n",
       "    </tr>\n",
       "    <tr>\n",
       "      <th>11</th>\n",
       "      <td>&lt;p class=\"ie9Plug__des...</td>\n",
       "      <td>NaN</td>\n",
       "      <td>NaN</td>\n",
       "      <td>NaN</td>\n",
       "      <td>NaN</td>\n",
       "    </tr>\n",
       "    <tr>\n",
       "      <th>12</th>\n",
       "      <td>&lt;a class=\"ie9Plug__des...</td>\n",
       "      <td>NaN</td>\n",
       "      <td>NaN</td>\n",
       "      <td>NaN</td>\n",
       "      <td>NaN</td>\n",
       "    </tr>\n",
       "    <tr>\n",
       "      <th>13</th>\n",
       "      <td>&lt;/div&gt;</td>\n",
       "      <td>NaN</td>\n",
       "      <td>NaN</td>\n",
       "      <td>NaN</td>\n",
       "      <td>NaN</td>\n",
       "    </tr>\n",
       "    <tr>\n",
       "      <th>14</th>\n",
       "      <td>&lt;/div&gt;</td>\n",
       "      <td>NaN</td>\n",
       "      <td>NaN</td>\n",
       "      <td>NaN</td>\n",
       "      <td>NaN</td>\n",
       "    </tr>\n",
       "    <tr>\n",
       "      <th>15</th>\n",
       "      <td>&lt;/div&gt;</td>\n",
       "      <td>NaN</td>\n",
       "      <td>NaN</td>\n",
       "      <td>NaN</td>\n",
       "      <td>NaN</td>\n",
       "    </tr>\n",
       "    <tr>\n",
       "      <th>16</th>\n",
       "      <td>&lt;![endif]--&gt;&lt;!--[if lt IE 9]&gt;</td>\n",
       "      <td>NaN</td>\n",
       "      <td>NaN</td>\n",
       "      <td>NaN</td>\n",
       "      <td>NaN</td>\n",
       "    </tr>\n",
       "    <tr>\n",
       "      <th>17</th>\n",
       "      <td>&lt;link rel=\"stylesheet\" type=\"text/...</td>\n",
       "      <td>NaN</td>\n",
       "      <td>NaN</td>\n",
       "      <td>NaN</td>\n",
       "      <td>NaN</td>\n",
       "    </tr>\n",
       "    <tr>\n",
       "      <th>18</th>\n",
       "      <td>&lt;div class=\"iePlug\"&gt;</td>\n",
       "      <td>NaN</td>\n",
       "      <td>NaN</td>\n",
       "      <td>NaN</td>\n",
       "      <td>NaN</td>\n",
       "    </tr>\n",
       "    <tr>\n",
       "      <th>19</th>\n",
       "      <td>&lt;img class=\"iePlug__logo\" src=...</td>\n",
       "      <td>NaN</td>\n",
       "      <td>NaN</td>\n",
       "      <td>NaN</td>\n",
       "      <td>NaN</td>\n",
       "    </tr>\n",
       "    <tr>\n",
       "      <th>20</th>\n",
       "      <td>&lt;div class=\"iePlug__content\"&gt;</td>\n",
       "      <td>NaN</td>\n",
       "      <td>NaN</td>\n",
       "      <td>NaN</td>\n",
       "      <td>NaN</td>\n",
       "    </tr>\n",
       "    <tr>\n",
       "      <th>21</th>\n",
       "      <td>&lt;img class=\"iePlug__errorI...</td>\n",
       "      <td>NaN</td>\n",
       "      <td>NaN</td>\n",
       "      <td>NaN</td>\n",
       "      <td>NaN</td>\n",
       "    </tr>\n",
       "    <tr>\n",
       "      <th>22</th>\n",
       "      <td>&lt;p class=\"iePlug__title\"&gt;В...</td>\n",
       "      <td>NaN</td>\n",
       "      <td>NaN</td>\n",
       "      <td>NaN</td>\n",
       "      <td>NaN</td>\n",
       "    </tr>\n",
       "    <tr>\n",
       "      <th>23</th>\n",
       "      <td>&lt;div class=\"iePlug__descri...</td>\n",
       "      <td>NaN</td>\n",
       "      <td>NaN</td>\n",
       "      <td>NaN</td>\n",
       "      <td>NaN</td>\n",
       "    </tr>\n",
       "    <tr>\n",
       "      <th>24</th>\n",
       "      <td>&lt;p class=\"iePlug__desc...</td>\n",
       "      <td>NaN</td>\n",
       "      <td>NaN</td>\n",
       "      <td>NaN</td>\n",
       "      <td>NaN</td>\n",
       "    </tr>\n",
       "    <tr>\n",
       "      <th>25</th>\n",
       "      <td>&lt;a class=\"iePlug__desc...</td>\n",
       "      <td>NaN</td>\n",
       "      <td>NaN</td>\n",
       "      <td>NaN</td>\n",
       "      <td>NaN</td>\n",
       "    </tr>\n",
       "    <tr>\n",
       "      <th>26</th>\n",
       "      <td>&lt;/div&gt;</td>\n",
       "      <td>NaN</td>\n",
       "      <td>NaN</td>\n",
       "      <td>NaN</td>\n",
       "      <td>NaN</td>\n",
       "    </tr>\n",
       "    <tr>\n",
       "      <th>27</th>\n",
       "      <td>&lt;/div&gt;</td>\n",
       "      <td>NaN</td>\n",
       "      <td>NaN</td>\n",
       "      <td>NaN</td>\n",
       "      <td>NaN</td>\n",
       "    </tr>\n",
       "    <tr>\n",
       "      <th>28</th>\n",
       "      <td>&lt;/div&gt;</td>\n",
       "      <td>NaN</td>\n",
       "      <td>NaN</td>\n",
       "      <td>NaN</td>\n",
       "      <td>NaN</td>\n",
       "    </tr>\n",
       "    <tr>\n",
       "      <th>29</th>\n",
       "      <td>&lt;![endif]--&gt;&lt;script&gt;window.onload = fu...</td>\n",
       "      <td>NaN</td>\n",
       "      <td>NaN</td>\n",
       "      <td>NaN</td>\n",
       "      <td>NaN</td>\n",
       "    </tr>\n",
       "    <tr>\n",
       "      <th>30</th>\n",
       "      <td>const preloader = document.que...</td>\n",
       "      <td>NaN</td>\n",
       "      <td>NaN</td>\n",
       "      <td>NaN</td>\n",
       "      <td>NaN</td>\n",
       "    </tr>\n",
       "    <tr>\n",
       "      <th>31</th>\n",
       "      <td>window.setTimeout(function () {</td>\n",
       "      <td>NaN</td>\n",
       "      <td>NaN</td>\n",
       "      <td>NaN</td>\n",
       "      <td>NaN</td>\n",
       "    </tr>\n",
       "    <tr>\n",
       "      <th>32</th>\n",
       "      <td>preloader.classList.add('p...</td>\n",
       "      <td>NaN</td>\n",
       "      <td>NaN</td>\n",
       "      <td>NaN</td>\n",
       "      <td>NaN</td>\n",
       "    </tr>\n",
       "    <tr>\n",
       "      <th>33</th>\n",
       "      <td>}</td>\n",
       "      <td>500);</td>\n",
       "      <td>NaN</td>\n",
       "      <td>NaN</td>\n",
       "      <td>NaN</td>\n",
       "    </tr>\n",
       "    <tr>\n",
       "      <th>34</th>\n",
       "      <td>}&lt;/script&gt;&lt;/body&gt;&lt;/html&gt;</td>\n",
       "      <td>NaN</td>\n",
       "      <td>NaN</td>\n",
       "      <td>NaN</td>\n",
       "      <td>NaN</td>\n",
       "    </tr>\n",
       "  </tbody>\n",
       "</table>\n",
       "</div>"
      ],
      "text/plain": [
       "   <!doctype html><html><head><meta charset=\"utf-8\"><meta name=\"viewport\" content=\"width=device-width   \n",
       "0               function gtag(){ window.dataLayer....                                                  \\\n",
       "1                                           gtag('js'                                                   \n",
       "2                                       gtag('config'                                                   \n",
       "3               window.gtag = gtag;</script><link ...                                                   \n",
       "4               <link rel=\"stylesheet\" type=\"text/...                                                   \n",
       "5                               <div class=\"ie9Plug\">                                                   \n",
       "6                   <img class=\"ie9Plug__logo\" src...                                                   \n",
       "7                      <div class=\"ie9Plug__content\">                                                   \n",
       "8                       <img class=\"ie9Plug__error...                                                   \n",
       "9                       <p class=\"ie9Plug__title\">...                                                   \n",
       "10                      <div class=\"ie9Plug__descr...                                                   \n",
       "11                          <p class=\"ie9Plug__des...                                                   \n",
       "12                          <a class=\"ie9Plug__des...                                                   \n",
       "13                                             </div>                                                   \n",
       "14                                             </div>                                                   \n",
       "15                                             </div>                                                   \n",
       "16                      <![endif]--><!--[if lt IE 9]>                                                   \n",
       "17              <link rel=\"stylesheet\" type=\"text/...                                                   \n",
       "18                               <div class=\"iePlug\">                                                   \n",
       "19                  <img class=\"iePlug__logo\" src=...                                                   \n",
       "20                      <div class=\"iePlug__content\">                                                   \n",
       "21                      <img class=\"iePlug__errorI...                                                   \n",
       "22                      <p class=\"iePlug__title\">В...                                                   \n",
       "23                      <div class=\"iePlug__descri...                                                   \n",
       "24                          <p class=\"iePlug__desc...                                                   \n",
       "25                          <a class=\"iePlug__desc...                                                   \n",
       "26                                             </div>                                                   \n",
       "27                                             </div>                                                   \n",
       "28                                             </div>                                                   \n",
       "29          <![endif]--><script>window.onload = fu...                                                   \n",
       "30                  const preloader = document.que...                                                   \n",
       "31                    window.setTimeout(function () {                                                   \n",
       "32                      preloader.classList.add('p...                                                   \n",
       "33                                                  }                                                   \n",
       "34                           }</script></body></html>                                                   \n",
       "\n",
       "                                 height=device-height  initial-scale=1   \n",
       "0                                                 NaN              NaN  \\\n",
       "1                                        new Date());              NaN   \n",
       "2                                    'G-7QWGYEE7YS');              NaN   \n",
       "3    чтобы использовать Диск</p><form action=\"http...              NaN   \n",
       "4                                                 NaN              NaN   \n",
       "5                                                 NaN              NaN   \n",
       "6                                                 NaN              NaN   \n",
       "7                                                 NaN              NaN   \n",
       "8                                                 NaN              NaN   \n",
       "9                                                 NaN              NaN   \n",
       "10                                                NaN              NaN   \n",
       "11                                                NaN              NaN   \n",
       "12                                                NaN              NaN   \n",
       "13                                                NaN              NaN   \n",
       "14                                                NaN              NaN   \n",
       "15                                                NaN              NaN   \n",
       "16                                                NaN              NaN   \n",
       "17                                                NaN              NaN   \n",
       "18                                                NaN              NaN   \n",
       "19                                                NaN              NaN   \n",
       "20                                                NaN              NaN   \n",
       "21                                                NaN              NaN   \n",
       "22                                                NaN              NaN   \n",
       "23                                                NaN              NaN   \n",
       "24                                                NaN              NaN   \n",
       "25                                                NaN              NaN   \n",
       "26                                                NaN              NaN   \n",
       "27                                                NaN              NaN   \n",
       "28                                                NaN              NaN   \n",
       "29                                                NaN              NaN   \n",
       "30                                                NaN              NaN   \n",
       "31                                                NaN              NaN   \n",
       "32                                                NaN              NaN   \n",
       "33                                              500);              NaN   \n",
       "34                                                NaN              NaN   \n",
       "\n",
       "    user-scalable=no   \n",
       "0                NaN  \\\n",
       "1                NaN   \n",
       "2                NaN   \n",
       "3                NaN   \n",
       "4                NaN   \n",
       "5                NaN   \n",
       "6                NaN   \n",
       "7                NaN   \n",
       "8                NaN   \n",
       "9                NaN   \n",
       "10               NaN   \n",
       "11               NaN   \n",
       "12               NaN   \n",
       "13               NaN   \n",
       "14               NaN   \n",
       "15               NaN   \n",
       "16               NaN   \n",
       "17               NaN   \n",
       "18               NaN   \n",
       "19               NaN   \n",
       "20               NaN   \n",
       "21               NaN   \n",
       "22               NaN   \n",
       "23               NaN   \n",
       "24               NaN   \n",
       "25               NaN   \n",
       "26               NaN   \n",
       "27               NaN   \n",
       "28               NaN   \n",
       "29               NaN   \n",
       "30               NaN   \n",
       "31               NaN   \n",
       "32               NaN   \n",
       "33               NaN   \n",
       "34               NaN   \n",
       "\n",
       "    maximum-scale=1\"><meta http-equiv=\"X-UA-Compatible\" content=\"IE=EmulateIE9\"><title>Диск</title><meta name=\"robots\" content=\"noindex\"/><link rel=\"stylesheet\" href=\"/styles/style.css\"><link rel=\"stylesheet\" href=\"/styles/noscriptPlug.css\"><link rel=\"manifest\" href=\"/manifest.json\"><link rel=\"apple-touch-icon\" sizes=\"72x72\" href=\"/icons/icon-72x72.png\"><link rel=\"apple-touch-icon\" sizes=\"76x76\" href=\"/icons/icon-96x96.png\"><link rel=\"apple-touch-icon\" sizes=\"114x114\" href=\"/icons/icon-128x128.png\"><link rel=\"apple-touch-icon\" sizes=\"120x120\" href=\"/icons/icon-128x128.png\"><link rel=\"apple-touch-icon\" sizes=\"144x144\" href=\"/icons/icon-144x144.png\"><link rel=\"apple-touch-icon\" sizes=\"152x152\" href=\"/icons/icon-152x152.png\"><link rel=\"apple-touch-icon\" sizes=\"180x180\" href=\"/icons/icon-192x192.png\"><meta name=\"msapplication-TileColor\" content=\"#ffffff\"><meta name=\"theme-color\" content=\"#ffffff\"><script async src=\"https://www.googletagmanager.com/gtag/js?id=G-7QWGYEE7YS\"></script><script>window.dataLayer = window.dataLayer || [];  \n",
       "0                                                 NaN                                                                                                                                                                                                                                                                                                                                                                                                                                                                                                                                                                                                                                                                                                                                                                                                                                                                                                                                                                                                                               \n",
       "1                                                 NaN                                                                                                                                                                                                                                                                                                                                                                                                                                                                                                                                                                                                                                                                                                                                                                                                                                                                                                                                                                                                                               \n",
       "2                                                 NaN                                                                                                                                                                                                                                                                                                                                                                                                                                                                                                                                                                                                                                                                                                                                                                                                                                                                                                                                                                                                                               \n",
       "3                                                 NaN                                                                                                                                                                                                                                                                                                                                                                                                                                                                                                                                                                                                                                                                                                                                                                                                                                                                                                                                                                                                                               \n",
       "4                                                 NaN                                                                                                                                                                                                                                                                                                                                                                                                                                                                                                                                                                                                                                                                                                                                                                                                                                                                                                                                                                                                                               \n",
       "5                                                 NaN                                                                                                                                                                                                                                                                                                                                                                                                                                                                                                                                                                                                                                                                                                                                                                                                                                                                                                                                                                                                                               \n",
       "6                                                 NaN                                                                                                                                                                                                                                                                                                                                                                                                                                                                                                                                                                                                                                                                                                                                                                                                                                                                                                                                                                                                                               \n",
       "7                                                 NaN                                                                                                                                                                                                                                                                                                                                                                                                                                                                                                                                                                                                                                                                                                                                                                                                                                                                                                                                                                                                                               \n",
       "8                                                 NaN                                                                                                                                                                                                                                                                                                                                                                                                                                                                                                                                                                                                                                                                                                                                                                                                                                                                                                                                                                                                                               \n",
       "9                                                 NaN                                                                                                                                                                                                                                                                                                                                                                                                                                                                                                                                                                                                                                                                                                                                                                                                                                                                                                                                                                                                                               \n",
       "10                                                NaN                                                                                                                                                                                                                                                                                                                                                                                                                                                                                                                                                                                                                                                                                                                                                                                                                                                                                                                                                                                                                               \n",
       "11                                                NaN                                                                                                                                                                                                                                                                                                                                                                                                                                                                                                                                                                                                                                                                                                                                                                                                                                                                                                                                                                                                                               \n",
       "12                                                NaN                                                                                                                                                                                                                                                                                                                                                                                                                                                                                                                                                                                                                                                                                                                                                                                                                                                                                                                                                                                                                               \n",
       "13                                                NaN                                                                                                                                                                                                                                                                                                                                                                                                                                                                                                                                                                                                                                                                                                                                                                                                                                                                                                                                                                                                                               \n",
       "14                                                NaN                                                                                                                                                                                                                                                                                                                                                                                                                                                                                                                                                                                                                                                                                                                                                                                                                                                                                                                                                                                                                               \n",
       "15                                                NaN                                                                                                                                                                                                                                                                                                                                                                                                                                                                                                                                                                                                                                                                                                                                                                                                                                                                                                                                                                                                                               \n",
       "16                                                NaN                                                                                                                                                                                                                                                                                                                                                                                                                                                                                                                                                                                                                                                                                                                                                                                                                                                                                                                                                                                                                               \n",
       "17                                                NaN                                                                                                                                                                                                                                                                                                                                                                                                                                                                                                                                                                                                                                                                                                                                                                                                                                                                                                                                                                                                                               \n",
       "18                                                NaN                                                                                                                                                                                                                                                                                                                                                                                                                                                                                                                                                                                                                                                                                                                                                                                                                                                                                                                                                                                                                               \n",
       "19                                                NaN                                                                                                                                                                                                                                                                                                                                                                                                                                                                                                                                                                                                                                                                                                                                                                                                                                                                                                                                                                                                                               \n",
       "20                                                NaN                                                                                                                                                                                                                                                                                                                                                                                                                                                                                                                                                                                                                                                                                                                                                                                                                                                                                                                                                                                                                               \n",
       "21                                                NaN                                                                                                                                                                                                                                                                                                                                                                                                                                                                                                                                                                                                                                                                                                                                                                                                                                                                                                                                                                                                                               \n",
       "22                                                NaN                                                                                                                                                                                                                                                                                                                                                                                                                                                                                                                                                                                                                                                                                                                                                                                                                                                                                                                                                                                                                               \n",
       "23                                                NaN                                                                                                                                                                                                                                                                                                                                                                                                                                                                                                                                                                                                                                                                                                                                                                                                                                                                                                                                                                                                                               \n",
       "24                                                NaN                                                                                                                                                                                                                                                                                                                                                                                                                                                                                                                                                                                                                                                                                                                                                                                                                                                                                                                                                                                                                               \n",
       "25                                                NaN                                                                                                                                                                                                                                                                                                                                                                                                                                                                                                                                                                                                                                                                                                                                                                                                                                                                                                                                                                                                                               \n",
       "26                                                NaN                                                                                                                                                                                                                                                                                                                                                                                                                                                                                                                                                                                                                                                                                                                                                                                                                                                                                                                                                                                                                               \n",
       "27                                                NaN                                                                                                                                                                                                                                                                                                                                                                                                                                                                                                                                                                                                                                                                                                                                                                                                                                                                                                                                                                                                                               \n",
       "28                                                NaN                                                                                                                                                                                                                                                                                                                                                                                                                                                                                                                                                                                                                                                                                                                                                                                                                                                                                                                                                                                                                               \n",
       "29                                                NaN                                                                                                                                                                                                                                                                                                                                                                                                                                                                                                                                                                                                                                                                                                                                                                                                                                                                                                                                                                                                                               \n",
       "30                                                NaN                                                                                                                                                                                                                                                                                                                                                                                                                                                                                                                                                                                                                                                                                                                                                                                                                                                                                                                                                                                                                               \n",
       "31                                                NaN                                                                                                                                                                                                                                                                                                                                                                                                                                                                                                                                                                                                                                                                                                                                                                                                                                                                                                                                                                                                                               \n",
       "32                                                NaN                                                                                                                                                                                                                                                                                                                                                                                                                                                                                                                                                                                                                                                                                                                                                                                                                                                                                                                                                                                                                               \n",
       "33                                                NaN                                                                                                                                                                                                                                                                                                                                                                                                                                                                                                                                                                                                                                                                                                                                                                                                                                                                                                                                                                                                                               \n",
       "34                                                NaN                                                                                                                                                                                                                                                                                                                                                                                                                                                                                                                                                                                                                                                                                                                                                                                                                                                                                                                                                                                                                               "
      ]
     },
     "execution_count": 2,
     "metadata": {},
     "output_type": "execute_result"
    }
   ],
   "source": [
    "data = pd.read_csv('https://files.sberdisk.ru/s/awZHYxiQdwj2JZ1/kaggle_survey_2022_responses.csv', low_memory=False)\n",
    "data"
   ]
  },
  {
   "cell_type": "markdown",
   "metadata": {},
   "source": [
    "## Задание 1"
   ]
  },
  {
   "cell_type": "markdown",
   "metadata": {},
   "source": [
    "Используя библиотеку matplotlib, построй круговую диаграмму (Pie plot) для возраста респондента."
   ]
  },
  {
   "cell_type": "code",
   "execution_count": 3,
   "metadata": {},
   "outputs": [
    {
     "name": "stdout",
     "output_type": "stream",
     "text": [
      "<!doctype html><html><head><meta charset=\"utf-8\"><meta name=\"viewport\" content=\"width=device-width\n"
     ]
    }
   ],
   "source": [
    "import pandas as pd \n",
    "import matplotlib.pyplot as plt\n",
    "\n",
    "# data = pd.read_csv('https://files.sberdisk.ru/s/awZHYxiQdwj2JZ1', low_memory=False) #Учитываем данные\n",
    " \n",
    "name2question = data.iloc[0] \n",
    "print(data.columns[0])"
   ]
  },
  {
   "cell_type": "code",
   "execution_count": 4,
   "metadata": {},
   "outputs": [
    {
     "data": {
      "image/png": "[encoded data removed]",
      "text/plain": [
       "<Figure size 900x600 with 1 Axes>"
      ]
     },
     "metadata": {},
     "output_type": "display_data"
    }
   ],
   "source": [
    "# Код тут\n",
    "import pandas as pd \n",
    "import matplotlib.pyplot as plt\n",
    "\n",
    "\n",
    "data = pd.read_csv('kaggle_survey_2022_responses.csv', low_memory=False) #Учитываем данные\n",
    "\n",
    "fd=data.drop(index=0)  # Удаляем строку с вопросами\n",
    "fd1=fd['Q2'].value_counts()        # Подсчитывает частоту уникальных значений в колонке\n",
    "\n",
    "DtPie = pd.DataFrame(fd1)\n",
    "DtPie=DtPie.reset_index()\n",
    "\n",
    "labels = DtPie['Q2']\n",
    "sizes=DtPie['count']\n",
    "\n",
    "\n",
    "#****************************************************\n",
    "plt.rcParams['font.size'] = '10'\n",
    "fig, ax = plt.subplots(figsize=(9, 6)) #Функция subplots() возвращает объект Figure и объект Axes\n",
    "#colors = sns.color_palette('tab10') # задаем цветовую палитру (яркая)\n",
    "ax.pie(sizes ,autopct='%.1f', explode=(0.05, 0, 0, 0, 0, 0, 0, 0 , 0, 0, 0))  # , colors = colors,counterclock=False\n",
    "\n",
    "\n",
    "ax.legend(labels, loc='upper left', bbox_to_anchor=(0, 0.6),fontsize=10)\n",
    "ax.set_title(\"Возраст респондента\",size=18)\n",
    "\n",
    "ax.axis(\"equal\") #для пропорций\n",
    "\n",
    "plt.show()\n",
    "\n"
   ]
  },
  {
   "cell_type": "markdown",
   "metadata": {},
   "source": [
    "## Задание 2"
   ]
  },
  {
   "cell_type": "markdown",
   "metadata": {},
   "source": [
    "Используя библиотеку seaborn, построй столбцовую диаграмму (Bar plot) по популярности библиотек для визуализации. \\\n",
    "Отсортируй библиотеки по уменьшению популярности. Используй цветовую палитру 'colorblind'."
   ]
  },
  {
   "cell_type": "code",
   "execution_count": 5,
   "metadata": {},
   "outputs": [
    {
     "name": "stdout",
     "output_type": "stream",
     "text": [
      "вопрос  value                    \n",
      "Q15_1    Matplotlib                  14010\n",
      "Q15_2    Seaborn                     10512\n",
      "Q15_3    Plotly / Plotly Express      5078\n",
      "Q15_4    Ggplot / ggplot2             4145\n",
      "Q15_9    Geoplotlib                   1167\n",
      "Q15_5    Shiny                        1043\n",
      "Q15_8    Bokeh                         771\n",
      "Q15_6    D3 js                         734\n",
      "Q15_15  Other                          691\n",
      "Q15_10   Leaflet / Folium              554\n",
      "Q15_11   Pygal                         318\n",
      "Q15_7    Altair                        300\n",
      "Q15_12   Dygraphs                      225\n",
      "Q15_13   Highcharter                   198\n",
      "Name: count, dtype: int64\n"
     ]
    },
    {
     "data": {
      "image/png": "[encoded data removed]",
      "text/plain": [
       "<Figure size 1500x800 with 1 Axes>"
      ]
     },
     "metadata": {},
     "output_type": "display_data"
    }
   ],
   "source": [
    "# Код тут\n",
    "# Подготовка данных для визуализации\n",
    "q15_columns = []\n",
    "q15_columns = [col for col in data.columns if col.startswith('Q15')] # Выделаем вопросы с платформам.\n",
    "                                                                    #Если строка начинается с Q15.То добавляем её в список\n",
    "pltfs_15 = fd [q15_columns].melt(var_name='вопрос', value_vars=q15_columns)                                                                    \n",
    "print (pltfs_15.value_counts())\n",
    "\n",
    "\n",
    "df=pltfs_15['value'].value_counts() #Сводка данных для презентации-визуализации\n",
    "df_plt=pd.DataFrame(df)        # Сводная таблица данных\n",
    "\n",
    "# Визуализация данных\n",
    "df_plt=df_plt.reset_index()\n",
    "df_plt.columns=['Библиотека','Количество']\n",
    "plt.figure(figsize=(15,8))\n",
    "plt.title('Популярность библиотек для визуализации ',fontsize=25)\n",
    "\n",
    "import seaborn as sns\n",
    "sns.barplot(y = 'Библиотека', x='Количество',data = df_plt,palette='colorblind')\n",
    "\n",
    "plt.ylabel('Библиотека', fontsize=16)\n",
    "plt.xlabel('Количество', fontsize=16)\n",
    "\n",
    "plt.xticks(rotation=30,fontsize=12)\n",
    "plt.yticks(fontsize=12)\n",
    "\n",
    "#sns.set_theme(style='white') \n",
    "plt.show()"
   ]
  },
  {
   "cell_type": "markdown",
   "metadata": {},
   "source": [
    "## Задание 3"
   ]
  },
  {
   "cell_type": "markdown",
   "metadata": {},
   "source": [
    "Используя библиотеку seaborn, построй диаграмму \"Ящик с усами\" (Box plot) заработка по различным специальностям. \\\n",
    "Отсортируй специальности по убыванию медианы заработка. Используй цветовую палитру 'colorblind'"
   ]
  },
  {
   "cell_type": "code",
   "execution_count": 6,
   "metadata": {},
   "outputs": [
    {
     "data": {
      "image/png": "[encoded data removed]",
      "text/plain": [
       "<Figure size 2000x2500 with 1 Axes>"
      ]
     },
     "metadata": {},
     "output_type": "display_data"
    }
   ],
   "source": [
    "# Код тут\n",
    "# Подготовка данных . Пользуемся кодом из Project 02\n",
    "Salary_mapping =  {'$0-999':500,        \n",
    "                '10,000-14,999':12500,\n",
    "                '30,000-39,999':35000,                                                    \n",
    "                '1,000-1,999':1500,                                                      \n",
    "                '40,000-49,999':45000,                                               \n",
    "                '100,000-124,999':112500, \n",
    "                '5,000-7,499':6250,  \n",
    "                '50,000-59,999':55000, \n",
    "                '7,500-9,999':8750,  \n",
    "                '150,000-199,999':175000,  \n",
    "                '20,000-24,999':22500,                                                   \n",
    "                '60,000-69,999':65000,                                                    \n",
    "                '15,000-19,999':17500,                                                \n",
    "                '70,000-79,999':75000,                                             \n",
    "                '25,000-29,999':27500,                                           \n",
    "                '2,000-2,999':2500,                                                  \n",
    "                '125,000-149,999':137500,                                               \n",
    "                '3,000-3,999':3500,                                               \n",
    "                '4,000-4,999':4500,                                                    \n",
    "                '80,000-89,999':85000,                                                  \n",
    "                '90,000-99,999':95000,                                                 \n",
    "                '200,000-249,999':225000,                                            \n",
    "                '250,000-299,999':275000,                                               \n",
    "                '300,000-499,999':400000,                                               \n",
    "                '$500,000-999,999':750000,                                                 \n",
    "                '>$1,000,000':1000000}  \n",
    "data['Q29-NEW'] = data['Q29'].map(Salary_mapping)\n",
    "\n",
    "df = pd.DataFrame(data[['Q23', 'Q29-NEW']].dropna())\n",
    "df.columns= ['Профессия','Годовой доход в $']\n",
    "median = df.groupby('Профессия').agg('median').sort_values(by='Годовой доход в $', ascending=False)\n",
    "\n",
    "# print (df)\n",
    "# print (median)\n",
    "import seaborn as sns\n",
    "fig, ax = plt.subplots(figsize=(20, 25))\n",
    "plt.xlim(0, 300000)\n",
    "sns.boxplot(x='Годовой доход в $', y='Профессия', data=df, order=median.index, palette = \"colorblind\", ax=ax,fliersize=15).set_title(\"Годовой доход по специальностям\", fontdict={'size': 30})\n",
    "\n",
    "plt.xlabel('Годовой доход в $', fontsize=20)\n",
    "plt.ylabel('Профессия', fontsize=20)\n",
    "plt.yticks(rotation=45,fontsize=20)\n",
    "plt.xticks(fontsize=20)\n",
    "\n",
    "plt.show()"
   ]
  },
  {
   "cell_type": "markdown",
   "metadata": {},
   "source": [
    "## Задание 4\n",
    "Используя модуль graph_objects из библиотеки plotly, построй столбцовую диаграмму (Bar plot) на распределение респондентов по возрасту по специальностям Data Administrator, Data Analyst, Data Engineer, Data Scientist, Engineer, MLops Engineer, \n",
    "Research Scientist, Software Engineer, Data Architect. \\\n",
    "Цвета в этом задании не важны"
   ]
  },
  {
   "cell_type": "code",
   "execution_count": 11,
   "metadata": {},
   "outputs": [
    {
     "data": {
      "application/vnd.plotly.v1+json": {
       "config": {
        "plotlyServerURL": "https://plot.ly"
       },
       "data": [
        {
         "name": "Data Administrator",
         "type": "bar",
         "x": [
          "18-21",
          "22-24",
          "25-29",
          "30-34",
          "35-39",
          "40-44",
          "45-49",
          "50-54",
          "55-59",
          "60-69",
          "70+"
         ],
         "xaxis": "x",
         "y": [
          1,
          4,
          8,
          11,
          14,
          10,
          12,
          5,
          2,
          2,
          1
         ],
         "yaxis": "y"
        },
        {
         "name": "Data Analyst",
         "type": "bar",
         "x": [
          "18-21",
          "22-24",
          "25-29",
          "30-34",
          "35-39",
          "40-44",
          "45-49",
          "50-54",
          "55-59",
          "60-69",
          "70+"
         ],
         "xaxis": "x2",
         "y": [
          19,
          209,
          406,
          296,
          220,
          157,
          89,
          54,
          47,
          36,
          5
         ],
         "yaxis": "y2"
        },
        {
         "name": "Data Engineer",
         "type": "bar",
         "x": [
          "18-21",
          "22-24",
          "25-29",
          "30-34",
          "35-39",
          "40-44",
          "45-49",
          "50-54",
          "55-59",
          "60-69"
         ],
         "xaxis": "x3",
         "y": [
          3,
          51,
          71,
          62,
          51,
          47,
          30,
          13,
          11,
          13
         ],
         "yaxis": "y3"
        },
        {
         "name": "Data Scientist",
         "type": "bar",
         "x": [
          "18-21",
          "22-24",
          "25-29",
          "30-34",
          "35-39",
          "40-44",
          "45-49",
          "50-54",
          "55-59",
          "60-69",
          "70+"
         ],
         "xaxis": "x4",
         "y": [
          25,
          184,
          488,
          408,
          320,
          204,
          108,
          86,
          50,
          46,
          10
         ],
         "yaxis": "y4"
        },
        {
         "name": "Engineer",
         "type": "bar",
         "x": [
          "18-21",
          "22-24",
          "25-29",
          "30-34",
          "35-39",
          "40-44",
          "45-49",
          "50-54",
          "55-59",
          "60-69",
          "70+"
         ],
         "xaxis": "x5",
         "y": [
          3,
          37,
          109,
          83,
          77,
          52,
          31,
          38,
          13,
          17,
          5
         ],
         "yaxis": "y5"
        },
        {
         "name": "MLops Engineer",
         "type": "bar",
         "x": [
          "18-21",
          "22-24",
          "25-29",
          "30-34",
          "35-39",
          "40-44",
          "45-49",
          "50-54",
          "55-59",
          "60-69"
         ],
         "xaxis": "x6",
         "y": [
          7,
          90,
          163,
          106,
          81,
          55,
          29,
          20,
          12,
          8
         ],
         "yaxis": "y6"
        },
        {
         "name": "Research Scientist",
         "type": "bar",
         "x": [
          "18-21",
          "22-24",
          "25-29",
          "30-34",
          "35-39",
          "40-44",
          "45-49",
          "50-54",
          "55-59",
          "60-69",
          "70+"
         ],
         "xaxis": "x7",
         "y": [
          2,
          27,
          69,
          107,
          111,
          92,
          65,
          41,
          22,
          45,
          12
         ],
         "yaxis": "y7"
        },
        {
         "name": "Software Engineer",
         "type": "bar",
         "x": [
          "18-21",
          "22-24",
          "25-29",
          "30-34",
          "35-39",
          "40-44",
          "45-49",
          "50-54",
          "55-59",
          "60-69",
          "70+"
         ],
         "xaxis": "x8",
         "y": [
          26,
          169,
          227,
          136,
          90,
          112,
          86,
          64,
          40,
          23,
          7
         ],
         "yaxis": "y8"
        },
        {
         "name": "Data Architect",
         "type": "bar",
         "x": [
          "22-24",
          "25-29",
          "30-34",
          "35-39",
          "40-44",
          "45-49",
          "50-54",
          "55-59",
          "60-69"
         ],
         "xaxis": "x9",
         "y": [
          2,
          6,
          9,
          21,
          11,
          17,
          13,
          12,
          4
         ],
         "yaxis": "y9"
        }
       ],
       "layout": {
        "annotations": [
         {
          "font": {
           "size": 12
          },
          "showarrow": false,
          "text": "Data Administrator",
          "x": 0.14444444444444446,
          "xanchor": "center",
          "xref": "paper",
          "y": 1,
          "yanchor": "bottom",
          "yref": "paper"
         },
         {
          "font": {
           "size": 12
          },
          "showarrow": false,
          "text": "Data Analyst",
          "x": 0.5,
          "xanchor": "center",
          "xref": "paper",
          "y": 1,
          "yanchor": "bottom",
          "yref": "paper"
         },
         {
          "font": {
           "size": 12
          },
          "showarrow": false,
          "text": "Data Engineer",
          "x": 0.8555555555555556,
          "xanchor": "center",
          "xref": "paper",
          "y": 1,
          "yanchor": "bottom",
          "yref": "paper"
         },
         {
          "font": {
           "size": 12
          },
          "showarrow": false,
          "text": "Data Scientist",
          "x": 0.14444444444444446,
          "xanchor": "center",
          "xref": "paper",
          "y": 0.6111111111111112,
          "yanchor": "bottom",
          "yref": "paper"
         },
         {
          "font": {
           "size": 12
          },
          "showarrow": false,
          "text": "Engineer",
          "x": 0.5,
          "xanchor": "center",
          "xref": "paper",
          "y": 0.6111111111111112,
          "yanchor": "bottom",
          "yref": "paper"
         },
         {
          "font": {
           "size": 12
          },
          "showarrow": false,
          "text": "MLops Engineer",
          "x": 0.8555555555555556,
          "xanchor": "center",
          "xref": "paper",
          "y": 0.6111111111111112,
          "yanchor": "bottom",
          "yref": "paper"
         },
         {
          "font": {
           "size": 12
          },
          "showarrow": false,
          "text": "Research Scientist",
          "x": 0.14444444444444446,
          "xanchor": "center",
          "xref": "paper",
          "y": 0.22222222222222224,
          "yanchor": "bottom",
          "yref": "paper"
         },
         {
          "font": {
           "size": 12
          },
          "showarrow": false,
          "text": "Software Engineer",
          "x": 0.5,
          "xanchor": "center",
          "xref": "paper",
          "y": 0.22222222222222224,
          "yanchor": "bottom",
          "yref": "paper"
         },
         {
          "font": {
           "size": 12
          },
          "showarrow": false,
          "text": "Data Architect",
          "x": 0.8555555555555556,
          "xanchor": "center",
          "xref": "paper",
          "y": 0.22222222222222224,
          "yanchor": "bottom",
          "yref": "paper"
         }
        ],
        "font": {
         "family": "monospace",
         "size": 12
        },
        "height": 700,
        "template": {
         "data": {
          "bar": [
           {
            "error_x": {
             "color": "#2a3f5f"
            },
            "error_y": {
             "color": "#2a3f5f"
            },
            "marker": {
             "line": {
              "color": "#E5ECF6",
              "width": 0.5
             },
             "pattern": {
              "fillmode": "overlay",
              "size": 10,
              "solidity": 0.2
             }
            },
            "type": "bar"
           }
          ],
          "barpolar": [
           {
            "marker": {
             "line": {
              "color": "#E5ECF6",
              "width": 0.5
             },
             "pattern": {
              "fillmode": "overlay",
              "size": 10,
              "solidity": 0.2
             }
            },
            "type": "barpolar"
           }
          ],
          "carpet": [
           {
            "aaxis": {
             "endlinecolor": "#2a3f5f",
             "gridcolor": "white",
             "linecolor": "white",
             "minorgridcolor": "white",
             "startlinecolor": "#2a3f5f"
            },
            "baxis": {
             "endlinecolor": "#2a3f5f",
             "gridcolor": "white",
             "linecolor": "white",
             "minorgridcolor": "white",
             "startlinecolor": "#2a3f5f"
            },
            "type": "carpet"
           }
          ],
          "choropleth": [
           {
            "colorbar": {
             "outlinewidth": 0,
             "ticks": ""
            },
            "type": "choropleth"
           }
          ],
          "contour": [
           {
            "colorbar": {
             "outlinewidth": 0,
             "ticks": ""
            },
            "colorscale": [
             [
              0,
              "#0d0887"
             ],
             [
              0.1111111111111111,
              "#46039f"
             ],
             [
              0.2222222222222222,
              "#7201a8"
             ],
             [
              0.3333333333333333,
              "#9c179e"
             ],
             [
              0.4444444444444444,
              "#bd3786"
             ],
             [
              0.5555555555555556,
              "#d8576b"
             ],
             [
              0.6666666666666666,
              "#ed7953"
             ],
             [
              0.7777777777777778,
              "#fb9f3a"
             ],
             [
              0.8888888888888888,
              "#fdca26"
             ],
             [
              1,
              "#f0f921"
             ]
            ],
            "type": "contour"
           }
          ],
          "contourcarpet": [
           {
            "colorbar": {
             "outlinewidth": 0,
             "ticks": ""
            },
            "type": "contourcarpet"
           }
          ],
          "heatmap": [
           {
            "colorbar": {
             "outlinewidth": 0,
             "ticks": ""
            },
            "colorscale": [
             [
              0,
              "#0d0887"
             ],
             [
              0.1111111111111111,
              "#46039f"
             ],
             [
              0.2222222222222222,
              "#7201a8"
             ],
             [
              0.3333333333333333,
              "#9c179e"
             ],
             [
              0.4444444444444444,
              "#bd3786"
             ],
             [
              0.5555555555555556,
              "#d8576b"
             ],
             [
              0.6666666666666666,
              "#ed7953"
             ],
             [
              0.7777777777777778,
              "#fb9f3a"
             ],
             [
              0.8888888888888888,
              "#fdca26"
             ],
             [
              1,
              "#f0f921"
             ]
            ],
            "type": "heatmap"
           }
          ],
          "heatmapgl": [
           {
            "colorbar": {
             "outlinewidth": 0,
             "ticks": ""
            },
            "colorscale": [
             [
              0,
              "#0d0887"
             ],
             [
              0.1111111111111111,
              "#46039f"
             ],
             [
              0.2222222222222222,
              "#7201a8"
             ],
             [
              0.3333333333333333,
              "#9c179e"
             ],
             [
              0.4444444444444444,
              "#bd3786"
             ],
             [
              0.5555555555555556,
              "#d8576b"
             ],
             [
              0.6666666666666666,
              "#ed7953"
             ],
             [
              0.7777777777777778,
              "#fb9f3a"
             ],
             [
              0.8888888888888888,
              "#fdca26"
             ],
             [
              1,
              "#f0f921"
             ]
            ],
            "type": "heatmapgl"
           }
          ],
          "histogram": [
           {
            "marker": {
             "pattern": {
              "fillmode": "overlay",
              "size": 10,
              "solidity": 0.2
             }
            },
            "type": "histogram"
           }
          ],
          "histogram2d": [
           {
            "colorbar": {
             "outlinewidth": 0,
             "ticks": ""
            },
            "colorscale": [
             [
              0,
              "#0d0887"
             ],
             [
              0.1111111111111111,
              "#46039f"
             ],
             [
              0.2222222222222222,
              "#7201a8"
             ],
             [
              0.3333333333333333,
              "#9c179e"
             ],
             [
              0.4444444444444444,
              "#bd3786"
             ],
             [
              0.5555555555555556,
              "#d8576b"
             ],
             [
              0.6666666666666666,
              "#ed7953"
             ],
             [
              0.7777777777777778,
              "#fb9f3a"
             ],
             [
              0.8888888888888888,
              "#fdca26"
             ],
             [
              1,
              "#f0f921"
             ]
            ],
            "type": "histogram2d"
           }
          ],
          "histogram2dcontour": [
           {
            "colorbar": {
             "outlinewidth": 0,
             "ticks": ""
            },
            "colorscale": [
             [
              0,
              "#0d0887"
             ],
             [
              0.1111111111111111,
              "#46039f"
             ],
             [
              0.2222222222222222,
              "#7201a8"
             ],
             [
              0.3333333333333333,
              "#9c179e"
             ],
             [
              0.4444444444444444,
              "#bd3786"
             ],
             [
              0.5555555555555556,
              "#d8576b"
             ],
             [
              0.6666666666666666,
              "#ed7953"
             ],
             [
              0.7777777777777778,
              "#fb9f3a"
             ],
             [
              0.8888888888888888,
              "#fdca26"
             ],
             [
              1,
              "#f0f921"
             ]
            ],
            "type": "histogram2dcontour"
           }
          ],
          "mesh3d": [
           {
            "colorbar": {
             "outlinewidth": 0,
             "ticks": ""
            },
            "type": "mesh3d"
           }
          ],
          "parcoords": [
           {
            "line": {
             "colorbar": {
              "outlinewidth": 0,
              "ticks": ""
             }
            },
            "type": "parcoords"
           }
          ],
          "pie": [
           {
            "automargin": true,
            "type": "pie"
           }
          ],
          "scatter": [
           {
            "fillpattern": {
             "fillmode": "overlay",
             "size": 10,
             "solidity": 0.2
            },
            "type": "scatter"
           }
          ],
          "scatter3d": [
           {
            "line": {
             "colorbar": {
              "outlinewidth": 0,
              "ticks": ""
             }
            },
            "marker": {
             "colorbar": {
              "outlinewidth": 0,
              "ticks": ""
             }
            },
            "type": "scatter3d"
           }
          ],
          "scattercarpet": [
           {
            "marker": {
             "colorbar": {
              "outlinewidth": 0,
              "ticks": ""
             }
            },
            "type": "scattercarpet"
           }
          ],
          "scattergeo": [
           {
            "marker": {
             "colorbar": {
              "outlinewidth": 0,
              "ticks": ""
             }
            },
            "type": "scattergeo"
           }
          ],
          "scattergl": [
           {
            "marker": {
             "colorbar": {
              "outlinewidth": 0,
              "ticks": ""
             }
            },
            "type": "scattergl"
           }
          ],
          "scattermapbox": [
           {
            "marker": {
             "colorbar": {
              "outlinewidth": 0,
              "ticks": ""
             }
            },
            "type": "scattermapbox"
           }
          ],
          "scatterpolar": [
           {
            "marker": {
             "colorbar": {
              "outlinewidth": 0,
              "ticks": ""
             }
            },
            "type": "scatterpolar"
           }
          ],
          "scatterpolargl": [
           {
            "marker": {
             "colorbar": {
              "outlinewidth": 0,
              "ticks": ""
             }
            },
            "type": "scatterpolargl"
           }
          ],
          "scatterternary": [
           {
            "marker": {
             "colorbar": {
              "outlinewidth": 0,
              "ticks": ""
             }
            },
            "type": "scatterternary"
           }
          ],
          "surface": [
           {
            "colorbar": {
             "outlinewidth": 0,
             "ticks": ""
            },
            "colorscale": [
             [
              0,
              "#0d0887"
             ],
             [
              0.1111111111111111,
              "#46039f"
             ],
             [
              0.2222222222222222,
              "#7201a8"
             ],
             [
              0.3333333333333333,
              "#9c179e"
             ],
             [
              0.4444444444444444,
              "#bd3786"
             ],
             [
              0.5555555555555556,
              "#d8576b"
             ],
             [
              0.6666666666666666,
              "#ed7953"
             ],
             [
              0.7777777777777778,
              "#fb9f3a"
             ],
             [
              0.8888888888888888,
              "#fdca26"
             ],
             [
              1,
              "#f0f921"
             ]
            ],
            "type": "surface"
           }
          ],
          "table": [
           {
            "cells": {
             "fill": {
              "color": "#EBF0F8"
             },
             "line": {
              "color": "white"
             }
            },
            "header": {
             "fill": {
              "color": "#C8D4E3"
             },
             "line": {
              "color": "white"
             }
            },
            "type": "table"
           }
          ]
         },
         "layout": {
          "annotationdefaults": {
           "arrowcolor": "#2a3f5f",
           "arrowhead": 0,
           "arrowwidth": 1
          },
          "autotypenumbers": "strict",
          "coloraxis": {
           "colorbar": {
            "outlinewidth": 0,
            "ticks": ""
           }
          },
          "colorscale": {
           "diverging": [
            [
             0,
             "#8e0152"
            ],
            [
             0.1,
             "#c51b7d"
            ],
            [
             0.2,
             "#de77ae"
            ],
            [
             0.3,
             "#f1b6da"
            ],
            [
             0.4,
             "#fde0ef"
            ],
            [
             0.5,
             "#f7f7f7"
            ],
            [
             0.6,
             "#e6f5d0"
            ],
            [
             0.7,
             "#b8e186"
            ],
            [
             0.8,
             "#7fbc41"
            ],
            [
             0.9,
             "#4d9221"
            ],
            [
             1,
             "#276419"
            ]
           ],
           "sequential": [
            [
             0,
             "#0d0887"
            ],
            [
             0.1111111111111111,
             "#46039f"
            ],
            [
             0.2222222222222222,
             "#7201a8"
            ],
            [
             0.3333333333333333,
             "#9c179e"
            ],
            [
             0.4444444444444444,
             "#bd3786"
            ],
            [
             0.5555555555555556,
             "#d8576b"
            ],
            [
             0.6666666666666666,
             "#ed7953"
            ],
            [
             0.7777777777777778,
             "#fb9f3a"
            ],
            [
             0.8888888888888888,
             "#fdca26"
            ],
            [
             1,
             "#f0f921"
            ]
           ],
           "sequentialminus": [
            [
             0,
             "#0d0887"
            ],
            [
             0.1111111111111111,
             "#46039f"
            ],
            [
             0.2222222222222222,
             "#7201a8"
            ],
            [
             0.3333333333333333,
             "#9c179e"
            ],
            [
             0.4444444444444444,
             "#bd3786"
            ],
            [
             0.5555555555555556,
             "#d8576b"
            ],
            [
             0.6666666666666666,
             "#ed7953"
            ],
            [
             0.7777777777777778,
             "#fb9f3a"
            ],
            [
             0.8888888888888888,
             "#fdca26"
            ],
            [
             1,
             "#f0f921"
            ]
           ]
          },
          "colorway": [
           "#636efa",
           "#EF553B",
           "#00cc96",
           "#ab63fa",
           "#FFA15A",
           "#19d3f3",
           "#FF6692",
           "#B6E880",
           "#FF97FF",
           "#FECB52"
          ],
          "font": {
           "color": "#2a3f5f"
          },
          "geo": {
           "bgcolor": "white",
           "lakecolor": "white",
           "landcolor": "#E5ECF6",
           "showlakes": true,
           "showland": true,
           "subunitcolor": "white"
          },
          "hoverlabel": {
           "align": "left"
          },
          "hovermode": "closest",
          "mapbox": {
           "style": "light"
          },
          "paper_bgcolor": "white",
          "plot_bgcolor": "#E5ECF6",
          "polar": {
           "angularaxis": {
            "gridcolor": "white",
            "linecolor": "white",
            "ticks": ""
           },
           "bgcolor": "#E5ECF6",
           "radialaxis": {
            "gridcolor": "white",
            "linecolor": "white",
            "ticks": ""
           }
          },
          "scene": {
           "xaxis": {
            "backgroundcolor": "#E5ECF6",
            "gridcolor": "white",
            "gridwidth": 2,
            "linecolor": "white",
            "showbackground": true,
            "ticks": "",
            "zerolinecolor": "white"
           },
           "yaxis": {
            "backgroundcolor": "#E5ECF6",
            "gridcolor": "white",
            "gridwidth": 2,
            "linecolor": "white",
            "showbackground": true,
            "ticks": "",
            "zerolinecolor": "white"
           },
           "zaxis": {
            "backgroundcolor": "#E5ECF6",
            "gridcolor": "white",
            "gridwidth": 2,
            "linecolor": "white",
            "showbackground": true,
            "ticks": "",
            "zerolinecolor": "white"
           }
          },
          "shapedefaults": {
           "line": {
            "color": "#2a3f5f"
           }
          },
          "ternary": {
           "aaxis": {
            "gridcolor": "white",
            "linecolor": "white",
            "ticks": ""
           },
           "baxis": {
            "gridcolor": "white",
            "linecolor": "white",
            "ticks": ""
           },
           "bgcolor": "#E5ECF6",
           "caxis": {
            "gridcolor": "white",
            "linecolor": "white",
            "ticks": ""
           }
          },
          "title": {
           "x": 0.05
          },
          "xaxis": {
           "automargin": true,
           "gridcolor": "white",
           "linecolor": "white",
           "ticks": "",
           "title": {
            "standoff": 15
           },
           "zerolinecolor": "white",
           "zerolinewidth": 2
          },
          "yaxis": {
           "automargin": true,
           "gridcolor": "white",
           "linecolor": "white",
           "ticks": "",
           "title": {
            "standoff": 15
           },
           "zerolinecolor": "white",
           "zerolinewidth": 2
          }
         }
        },
        "title": {
         "text": "<i>Распределение возрастов по специальностям </i>"
        },
        "width": 1000,
        "xaxis": {
         "anchor": "y",
         "domain": [
          0,
          0.2888888888888889
         ]
        },
        "xaxis2": {
         "anchor": "y2",
         "domain": [
          0.35555555555555557,
          0.6444444444444445
         ]
        },
        "xaxis3": {
         "anchor": "y3",
         "domain": [
          0.7111111111111111,
          1
         ]
        },
        "xaxis4": {
         "anchor": "y4",
         "domain": [
          0,
          0.2888888888888889
         ]
        },
        "xaxis5": {
         "anchor": "y5",
         "domain": [
          0.35555555555555557,
          0.6444444444444445
         ]
        },
        "xaxis6": {
         "anchor": "y6",
         "domain": [
          0.7111111111111111,
          1
         ]
        },
        "xaxis7": {
         "anchor": "y7",
         "domain": [
          0,
          0.2888888888888889
         ]
        },
        "xaxis8": {
         "anchor": "y8",
         "domain": [
          0.35555555555555557,
          0.6444444444444445
         ]
        },
        "xaxis9": {
         "anchor": "y9",
         "domain": [
          0.7111111111111111,
          1
         ]
        },
        "yaxis": {
         "anchor": "x",
         "domain": [
          0.7777777777777778,
          1
         ]
        },
        "yaxis2": {
         "anchor": "x2",
         "domain": [
          0.7777777777777778,
          1
         ]
        },
        "yaxis3": {
         "anchor": "x3",
         "domain": [
          0.7777777777777778,
          1
         ]
        },
        "yaxis4": {
         "anchor": "x4",
         "domain": [
          0.3888888888888889,
          0.6111111111111112
         ]
        },
        "yaxis5": {
         "anchor": "x5",
         "domain": [
          0.3888888888888889,
          0.6111111111111112
         ]
        },
        "yaxis6": {
         "anchor": "x6",
         "domain": [
          0.3888888888888889,
          0.6111111111111112
         ]
        },
        "yaxis7": {
         "anchor": "x7",
         "domain": [
          0,
          0.22222222222222224
         ]
        },
        "yaxis8": {
         "anchor": "x8",
         "domain": [
          0,
          0.22222222222222224
         ]
        },
        "yaxis9": {
         "anchor": "x9",
         "domain": [
          0,
          0.22222222222222224
         ]
        }
       }
      }
     },
     "metadata": {},
     "output_type": "display_data"
    }
   ],
   "source": [
    "import pandas as pd \n",
    "import matplotlib.pyplot as plt\n",
    "\n",
    "data = pd.read_csv('kaggle_survey_2022_responses.csv', low_memory=False)   #Учитываем данные\n",
    "data = data.drop(0)\n",
    "\n",
    "\n",
    "Prof = ['Data Administrator', 'Data Analyst', 'Data Engineer', 'Data Scientist', 'Engineer', 'MLops Engineer', \n",
    "'Research Scientist', 'Software Engineer', 'Data Architect']\n",
    "\n",
    "df = pd.DataFrame(data[['Q2', 'Q23']].dropna())\n",
    "df=df.replace(['Data Analyst (Business, Marketing, Financial, Quantitative, etc)', 'Engineer (non-software)', 'Machine Learning/ MLops Engineer'],\n",
    "              ['Data Analyst', 'Engineer', 'MLops Engineer'])\n",
    "\n",
    "#print (df[['Q2','Q23']].groupby('Q23').value_counts())\n",
    "\n",
    "df_filtered = df[df['Q23'].isin(Prof)]\n",
    "\n",
    "DF=pd.DataFrame(df_filtered.groupby('Q23').value_counts())\n",
    "DF=DF.reset_index()\n",
    "DF=DF.sort_values(by='Q2')\n",
    "DF.columns =['Професcия', 'Возраст', 'Количество']\n",
    "\n",
    "\n",
    "#Создаём список графиков\n",
    "import plotly.graph_objs as go\n",
    "from plotly.subplots import make_subplots\n",
    "\n",
    "fig = make_subplots(\n",
    "    rows=3, cols=3, subplot_titles= (Prof))\n",
    "\n",
    "i=1\n",
    "j=1\n",
    "for t in (Prof) : \n",
    "    fig.append_trace(go.Bar(\n",
    "         x = (DF['Возраст'][(DF['Професcия']==t)]),\n",
    "         y = DF[(DF['Професcия']==t)]['Количество'],\n",
    "         name = t,),row=i, col=j)\n",
    "    if j==3 :\n",
    "        j=1\n",
    "        if i==3 :\n",
    "            i=1\n",
    "        else:\n",
    "            i+=1\n",
    "    else:\n",
    "        j+=1\n",
    "\n",
    "    #Визуализация графиков\n",
    "fig.update_layout(height=700, width=1000, title_text=\"<i>Распределение возрастов по специальностям </i>\", font_family=\"monospace\",font_size=12 )\n",
    "fig.update_annotations(font_size=12)\n"
   ]
  },
  {
   "cell_type": "markdown",
   "metadata": {},
   "source": [
    "Data Administrator, Data Analyst, Data Engineer, Data Scientist, Engineer, MLops Engineer, \n",
    "Research Scientist, Software Engineer, Data Architect"
   ]
  },
  {
   "cell_type": "markdown",
   "metadata": {},
   "source": [
    "## Задание 5"
   ]
  },
  {
   "cell_type": "markdown",
   "metadata": {},
   "source": [
    "Используя библиотеку plotly, построй карту стран респондентов. В этом вам поможет [plotly.choropleth](https://plotly.com/python/choropleth-maps/). \\\n",
    "В аргументах функции укажи параметр color_continuous_scale=\"Viridis\"."
   ]
  },
  {
   "cell_type": "code",
   "execution_count": 8,
   "metadata": {},
   "outputs": [
    {
     "data": {
      "application/vnd.plotly.v1+json": {
       "config": {
        "plotlyServerURL": "https://plot.ly"
       },
       "data": [
        {
         "coloraxis": "coloraxis",
         "geo": "geo",
         "hovertemplate": "<b>%{hovertext}</b><br><br>alpha-3=%{location}<br><b>Количество респондентов</b>=%{z}<extra></extra>",
         "hovertext": [
          "India",
          "United States of America",
          "Brazil",
          "Nigeria",
          "Pakistan",
          "Japan",
          "China",
          "Egypt",
          "Mexico",
          "Indonesia",
          "Turkey",
          "Russia",
          "France",
          "United Kingdom of Great Britain and Northern Ireland",
          "Canada",
          "Spain",
          "Colombia",
          "Bangladesh",
          "Viet Nam",
          "Argentina",
          "Kenya",
          "Italy",
          "Morocco",
          "Australia",
          "Thailand",
          "Tunisia",
          "Peru",
          "Chile",
          "Poland",
          "South Africa",
          "Philippines",
          "Netherlands",
          "Ghana",
          "Israel",
          "Germany",
          "Ethiopia",
          "United Arab Emirates",
          "Portugal",
          "Saudi Arabia",
          "Ukraine",
          "Sri Lanka",
          "Nepal",
          "Malaysia",
          "Cameroon",
          "Singapore",
          "Algeria",
          "Ecuador",
          "Zimbabwe",
          "Ireland",
          "Belgium",
          "Romania"
         ],
         "locations": [
          "IND",
          "USA",
          "BRA",
          "NGA",
          "PAK",
          "JPN",
          "CHN",
          "EGY",
          "MEX",
          "IDN",
          "TUR",
          "RUS",
          "FRA",
          "GBR",
          "CAN",
          "ESP",
          "COL",
          "BGD",
          "VNM",
          "ARG",
          "KEN",
          "ITA",
          "MAR",
          "AUS",
          "THA",
          "TUN",
          "PER",
          "CHL",
          "POL",
          "ZAF",
          "PHL",
          "NLD",
          "GHA",
          "ISR",
          "DEU",
          "ETH",
          "ARE",
          "PRT",
          "SAU",
          "UKR",
          "LKA",
          "NPL",
          "MYS",
          "CMR",
          "SGP",
          "DZA",
          "ECU",
          "ZWE",
          "IRL",
          "BEL",
          "ROU"
         ],
         "name": "",
         "type": "choropleth",
         "z": [
          8792,
          2920,
          833,
          731,
          620,
          556,
          453,
          383,
          380,
          376,
          345,
          324,
          262,
          258,
          257,
          257,
          256,
          251,
          212,
          204,
          201,
          182,
          177,
          142,
          132,
          125,
          121,
          115,
          113,
          109,
          108,
          108,
          107,
          102,
          99,
          98,
          94,
          87,
          84,
          79,
          77,
          75,
          74,
          68,
          68,
          62,
          54,
          54,
          53,
          51,
          50
         ]
        }
       ],
       "layout": {
        "coloraxis": {
         "cmax": 1000,
         "cmin": 0,
         "colorbar": {
          "dtick": 200,
          "thickness": 50,
          "thicknessmode": "pixels",
          "ticks": "outside",
          "title": {
           "text": "Количество респондентов"
          },
          "y": 1,
          "yanchor": "top"
         },
         "colorscale": [
          [
           0,
           "#440154"
          ],
          [
           0.1111111111111111,
           "#482878"
          ],
          [
           0.2222222222222222,
           "#3e4989"
          ],
          [
           0.3333333333333333,
           "#31688e"
          ],
          [
           0.4444444444444444,
           "#26828e"
          ],
          [
           0.5555555555555556,
           "#1f9e89"
          ],
          [
           0.6666666666666666,
           "#35b779"
          ],
          [
           0.7777777777777778,
           "#6ece58"
          ],
          [
           0.8888888888888888,
           "#b5de2b"
          ],
          [
           1,
           "#fde725"
          ]
         ]
        },
        "font": {
         "size": 13
        },
        "geo": {
         "center": {},
         "domain": {
          "x": [
           0,
           1
          ],
          "y": [
           0,
           1
          ]
         }
        },
        "legend": {
         "tracegroupgap": 0
        },
        "margin": {
         "t": 60
        },
        "template": {
         "data": {
          "bar": [
           {
            "error_x": {
             "color": "#2a3f5f"
            },
            "error_y": {
             "color": "#2a3f5f"
            },
            "marker": {
             "line": {
              "color": "#E5ECF6",
              "width": 0.5
             },
             "pattern": {
              "fillmode": "overlay",
              "size": 10,
              "solidity": 0.2
             }
            },
            "type": "bar"
           }
          ],
          "barpolar": [
           {
            "marker": {
             "line": {
              "color": "#E5ECF6",
              "width": 0.5
             },
             "pattern": {
              "fillmode": "overlay",
              "size": 10,
              "solidity": 0.2
             }
            },
            "type": "barpolar"
           }
          ],
          "carpet": [
           {
            "aaxis": {
             "endlinecolor": "#2a3f5f",
             "gridcolor": "white",
             "linecolor": "white",
             "minorgridcolor": "white",
             "startlinecolor": "#2a3f5f"
            },
            "baxis": {
             "endlinecolor": "#2a3f5f",
             "gridcolor": "white",
             "linecolor": "white",
             "minorgridcolor": "white",
             "startlinecolor": "#2a3f5f"
            },
            "type": "carpet"
           }
          ],
          "choropleth": [
           {
            "colorbar": {
             "outlinewidth": 0,
             "ticks": ""
            },
            "type": "choropleth"
           }
          ],
          "contour": [
           {
            "colorbar": {
             "outlinewidth": 0,
             "ticks": ""
            },
            "colorscale": [
             [
              0,
              "#0d0887"
             ],
             [
              0.1111111111111111,
              "#46039f"
             ],
             [
              0.2222222222222222,
              "#7201a8"
             ],
             [
              0.3333333333333333,
              "#9c179e"
             ],
             [
              0.4444444444444444,
              "#bd3786"
             ],
             [
              0.5555555555555556,
              "#d8576b"
             ],
             [
              0.6666666666666666,
              "#ed7953"
             ],
             [
              0.7777777777777778,
              "#fb9f3a"
             ],
             [
              0.8888888888888888,
              "#fdca26"
             ],
             [
              1,
              "#f0f921"
             ]
            ],
            "type": "contour"
           }
          ],
          "contourcarpet": [
           {
            "colorbar": {
             "outlinewidth": 0,
             "ticks": ""
            },
            "type": "contourcarpet"
           }
          ],
          "heatmap": [
           {
            "colorbar": {
             "outlinewidth": 0,
             "ticks": ""
            },
            "colorscale": [
             [
              0,
              "#0d0887"
             ],
             [
              0.1111111111111111,
              "#46039f"
             ],
             [
              0.2222222222222222,
              "#7201a8"
             ],
             [
              0.3333333333333333,
              "#9c179e"
             ],
             [
              0.4444444444444444,
              "#bd3786"
             ],
             [
              0.5555555555555556,
              "#d8576b"
             ],
             [
              0.6666666666666666,
              "#ed7953"
             ],
             [
              0.7777777777777778,
              "#fb9f3a"
             ],
             [
              0.8888888888888888,
              "#fdca26"
             ],
             [
              1,
              "#f0f921"
             ]
            ],
            "type": "heatmap"
           }
          ],
          "heatmapgl": [
           {
            "colorbar": {
             "outlinewidth": 0,
             "ticks": ""
            },
            "colorscale": [
             [
              0,
              "#0d0887"
             ],
             [
              0.1111111111111111,
              "#46039f"
             ],
             [
              0.2222222222222222,
              "#7201a8"
             ],
             [
              0.3333333333333333,
              "#9c179e"
             ],
             [
              0.4444444444444444,
              "#bd3786"
             ],
             [
              0.5555555555555556,
              "#d8576b"
             ],
             [
              0.6666666666666666,
              "#ed7953"
             ],
             [
              0.7777777777777778,
              "#fb9f3a"
             ],
             [
              0.8888888888888888,
              "#fdca26"
             ],
             [
              1,
              "#f0f921"
             ]
            ],
            "type": "heatmapgl"
           }
          ],
          "histogram": [
           {
            "marker": {
             "pattern": {
              "fillmode": "overlay",
              "size": 10,
              "solidity": 0.2
             }
            },
            "type": "histogram"
           }
          ],
          "histogram2d": [
           {
            "colorbar": {
             "outlinewidth": 0,
             "ticks": ""
            },
            "colorscale": [
             [
              0,
              "#0d0887"
             ],
             [
              0.1111111111111111,
              "#46039f"
             ],
             [
              0.2222222222222222,
              "#7201a8"
             ],
             [
              0.3333333333333333,
              "#9c179e"
             ],
             [
              0.4444444444444444,
              "#bd3786"
             ],
             [
              0.5555555555555556,
              "#d8576b"
             ],
             [
              0.6666666666666666,
              "#ed7953"
             ],
             [
              0.7777777777777778,
              "#fb9f3a"
             ],
             [
              0.8888888888888888,
              "#fdca26"
             ],
             [
              1,
              "#f0f921"
             ]
            ],
            "type": "histogram2d"
           }
          ],
          "histogram2dcontour": [
           {
            "colorbar": {
             "outlinewidth": 0,
             "ticks": ""
            },
            "colorscale": [
             [
              0,
              "#0d0887"
             ],
             [
              0.1111111111111111,
              "#46039f"
             ],
             [
              0.2222222222222222,
              "#7201a8"
             ],
             [
              0.3333333333333333,
              "#9c179e"
             ],
             [
              0.4444444444444444,
              "#bd3786"
             ],
             [
              0.5555555555555556,
              "#d8576b"
             ],
             [
              0.6666666666666666,
              "#ed7953"
             ],
             [
              0.7777777777777778,
              "#fb9f3a"
             ],
             [
              0.8888888888888888,
              "#fdca26"
             ],
             [
              1,
              "#f0f921"
             ]
            ],
            "type": "histogram2dcontour"
           }
          ],
          "mesh3d": [
           {
            "colorbar": {
             "outlinewidth": 0,
             "ticks": ""
            },
            "type": "mesh3d"
           }
          ],
          "parcoords": [
           {
            "line": {
             "colorbar": {
              "outlinewidth": 0,
              "ticks": ""
             }
            },
            "type": "parcoords"
           }
          ],
          "pie": [
           {
            "automargin": true,
            "type": "pie"
           }
          ],
          "scatter": [
           {
            "fillpattern": {
             "fillmode": "overlay",
             "size": 10,
             "solidity": 0.2
            },
            "type": "scatter"
           }
          ],
          "scatter3d": [
           {
            "line": {
             "colorbar": {
              "outlinewidth": 0,
              "ticks": ""
             }
            },
            "marker": {
             "colorbar": {
              "outlinewidth": 0,
              "ticks": ""
             }
            },
            "type": "scatter3d"
           }
          ],
          "scattercarpet": [
           {
            "marker": {
             "colorbar": {
              "outlinewidth": 0,
              "ticks": ""
             }
            },
            "type": "scattercarpet"
           }
          ],
          "scattergeo": [
           {
            "marker": {
             "colorbar": {
              "outlinewidth": 0,
              "ticks": ""
             }
            },
            "type": "scattergeo"
           }
          ],
          "scattergl": [
           {
            "marker": {
             "colorbar": {
              "outlinewidth": 0,
              "ticks": ""
             }
            },
            "type": "scattergl"
           }
          ],
          "scattermapbox": [
           {
            "marker": {
             "colorbar": {
              "outlinewidth": 0,
              "ticks": ""
             }
            },
            "type": "scattermapbox"
           }
          ],
          "scatterpolar": [
           {
            "marker": {
             "colorbar": {
              "outlinewidth": 0,
              "ticks": ""
             }
            },
            "type": "scatterpolar"
           }
          ],
          "scatterpolargl": [
           {
            "marker": {
             "colorbar": {
              "outlinewidth": 0,
              "ticks": ""
             }
            },
            "type": "scatterpolargl"
           }
          ],
          "scatterternary": [
           {
            "marker": {
             "colorbar": {
              "outlinewidth": 0,
              "ticks": ""
             }
            },
            "type": "scatterternary"
           }
          ],
          "surface": [
           {
            "colorbar": {
             "outlinewidth": 0,
             "ticks": ""
            },
            "colorscale": [
             [
              0,
              "#0d0887"
             ],
             [
              0.1111111111111111,
              "#46039f"
             ],
             [
              0.2222222222222222,
              "#7201a8"
             ],
             [
              0.3333333333333333,
              "#9c179e"
             ],
             [
              0.4444444444444444,
              "#bd3786"
             ],
             [
              0.5555555555555556,
              "#d8576b"
             ],
             [
              0.6666666666666666,
              "#ed7953"
             ],
             [
              0.7777777777777778,
              "#fb9f3a"
             ],
             [
              0.8888888888888888,
              "#fdca26"
             ],
             [
              1,
              "#f0f921"
             ]
            ],
            "type": "surface"
           }
          ],
          "table": [
           {
            "cells": {
             "fill": {
              "color": "#EBF0F8"
             },
             "line": {
              "color": "white"
             }
            },
            "header": {
             "fill": {
              "color": "#C8D4E3"
             },
             "line": {
              "color": "white"
             }
            },
            "type": "table"
           }
          ]
         },
         "layout": {
          "annotationdefaults": {
           "arrowcolor": "#2a3f5f",
           "arrowhead": 0,
           "arrowwidth": 1
          },
          "autotypenumbers": "strict",
          "coloraxis": {
           "colorbar": {
            "outlinewidth": 0,
            "ticks": ""
           }
          },
          "colorscale": {
           "diverging": [
            [
             0,
             "#8e0152"
            ],
            [
             0.1,
             "#c51b7d"
            ],
            [
             0.2,
             "#de77ae"
            ],
            [
             0.3,
             "#f1b6da"
            ],
            [
             0.4,
             "#fde0ef"
            ],
            [
             0.5,
             "#f7f7f7"
            ],
            [
             0.6,
             "#e6f5d0"
            ],
            [
             0.7,
             "#b8e186"
            ],
            [
             0.8,
             "#7fbc41"
            ],
            [
             0.9,
             "#4d9221"
            ],
            [
             1,
             "#276419"
            ]
           ],
           "sequential": [
            [
             0,
             "#0d0887"
            ],
            [
             0.1111111111111111,
             "#46039f"
            ],
            [
             0.2222222222222222,
             "#7201a8"
            ],
            [
             0.3333333333333333,
             "#9c179e"
            ],
            [
             0.4444444444444444,
             "#bd3786"
            ],
            [
             0.5555555555555556,
             "#d8576b"
            ],
            [
             0.6666666666666666,
             "#ed7953"
            ],
            [
             0.7777777777777778,
             "#fb9f3a"
            ],
            [
             0.8888888888888888,
             "#fdca26"
            ],
            [
             1,
             "#f0f921"
            ]
           ],
           "sequentialminus": [
            [
             0,
             "#0d0887"
            ],
            [
             0.1111111111111111,
             "#46039f"
            ],
            [
             0.2222222222222222,
             "#7201a8"
            ],
            [
             0.3333333333333333,
             "#9c179e"
            ],
            [
             0.4444444444444444,
             "#bd3786"
            ],
            [
             0.5555555555555556,
             "#d8576b"
            ],
            [
             0.6666666666666666,
             "#ed7953"
            ],
            [
             0.7777777777777778,
             "#fb9f3a"
            ],
            [
             0.8888888888888888,
             "#fdca26"
            ],
            [
             1,
             "#f0f921"
            ]
           ]
          },
          "colorway": [
           "#636efa",
           "#EF553B",
           "#00cc96",
           "#ab63fa",
           "#FFA15A",
           "#19d3f3",
           "#FF6692",
           "#B6E880",
           "#FF97FF",
           "#FECB52"
          ],
          "font": {
           "color": "#2a3f5f"
          },
          "geo": {
           "bgcolor": "white",
           "lakecolor": "white",
           "landcolor": "#E5ECF6",
           "showlakes": true,
           "showland": true,
           "subunitcolor": "white"
          },
          "hoverlabel": {
           "align": "left"
          },
          "hovermode": "closest",
          "mapbox": {
           "style": "light"
          },
          "paper_bgcolor": "white",
          "plot_bgcolor": "#E5ECF6",
          "polar": {
           "angularaxis": {
            "gridcolor": "white",
            "linecolor": "white",
            "ticks": ""
           },
           "bgcolor": "#E5ECF6",
           "radialaxis": {
            "gridcolor": "white",
            "linecolor": "white",
            "ticks": ""
           }
          },
          "scene": {
           "xaxis": {
            "backgroundcolor": "#E5ECF6",
            "gridcolor": "white",
            "gridwidth": 2,
            "linecolor": "white",
            "showbackground": true,
            "ticks": "",
            "zerolinecolor": "white"
           },
           "yaxis": {
            "backgroundcolor": "#E5ECF6",
            "gridcolor": "white",
            "gridwidth": 2,
            "linecolor": "white",
            "showbackground": true,
            "ticks": "",
            "zerolinecolor": "white"
           },
           "zaxis": {
            "backgroundcolor": "#E5ECF6",
            "gridcolor": "white",
            "gridwidth": 2,
            "linecolor": "white",
            "showbackground": true,
            "ticks": "",
            "zerolinecolor": "white"
           }
          },
          "shapedefaults": {
           "line": {
            "color": "#2a3f5f"
           }
          },
          "ternary": {
           "aaxis": {
            "gridcolor": "white",
            "linecolor": "white",
            "ticks": ""
           },
           "baxis": {
            "gridcolor": "white",
            "linecolor": "white",
            "ticks": ""
           },
           "bgcolor": "#E5ECF6",
           "caxis": {
            "gridcolor": "white",
            "linecolor": "white",
            "ticks": ""
           }
          },
          "title": {
           "x": 0.05
          },
          "xaxis": {
           "automargin": true,
           "gridcolor": "white",
           "linecolor": "white",
           "ticks": "",
           "title": {
            "standoff": 15
           },
           "zerolinecolor": "white",
           "zerolinewidth": 2
          },
          "yaxis": {
           "automargin": true,
           "gridcolor": "white",
           "linecolor": "white",
           "ticks": "",
           "title": {
            "standoff": 15
           },
           "zerolinecolor": "white",
           "zerolinewidth": 2
          }
         }
        },
        "title": {
         "text": "<b>Карта Мира</b>",
         "x": 0.5
        }
       }
      }
     },
     "metadata": {},
     "output_type": "display_data"
    }
   ],
   "source": [
    "# Код тут\n",
    "\n",
    "import plotly.express as px\n",
    "data = pd.read_csv('kaggle_survey_2022_responses.csv', low_memory=False)   #Учитываем данные\n",
    "data = data.drop(0)\n",
    "\n",
    "# загружаем датафрейм с ISO-кодами стран (нужно для отображения на карте)\n",
    "iso_codes = pd.read_csv(r'ISO_codes.csv', low_memory=False)\n",
    "iso_codes = iso_codes [['name', 'alpha-3']]\n",
    "\n",
    "# подготавливаем датафрейм по вопросу №4 (кол-во пользователей по странам)\n",
    "DF5 = data [['Q4']]\n",
    "DF5_count = pd.DataFrame(DF5.value_counts()).reset_index()\n",
    "DF5_count.columns = ['Страна', 'Количество респондентов']\n",
    "\n",
    "# объёдиняем 2 датафрейма (1: наш с кол-вом ответов по странам и 2: с ISO-кодами) (аналог ВПР по столбцу \"Страна\")\n",
    "mapping = DF5_count.merge(iso_codes, left_on = 'Страна', right_on='name', how = 'inner')\n",
    "\n",
    "#Закрашиваем карту, подставляя значения ISO-кодов, \n",
    "fig = px.choropleth(mapping, locations='alpha-3',\n",
    "                    color='Количество респондентов', # цвет по полю \"кол-во респондентов\"\n",
    "                    range_color=(0, 1000),# устанавливаем лимит (макс окраска при 1000 и более)\n",
    "                    hover_name='Страна', # инфо при наведении на страну на карте\n",
    "                    # скейл (стиль закраски) по заданию -'viridis', указываем название легенды и <b> шрифт (у нас поле = название) \n",
    "                    color_continuous_scale = 'viridis', labels={'Количество респондентов': '<b>Количество респондентов</b>'})\n",
    "fig.update_layout(title_text='<b>Карта Мира</b>', \n",
    "                  title_x=0.5, \n",
    "                  font=dict(size=13),\n",
    "                  # настройка легенды\n",
    "                  coloraxis_colorbar=dict(\n",
    "                  title=\"Количество респондентов\",\n",
    "                  thicknessmode=\"pixels\", thickness=50,\n",
    "                  yanchor=\"top\", y=1,\n",
    "                  ticks=\"outside\", \n",
    "                  dtick=200\n",
    ")\n",
    "    ) # задаем название и размеры\n",
    "fig.show()"
   ]
  },
  {
   "cell_type": "markdown",
   "metadata": {},
   "source": [
    "## Задание 6 - Дополнительное"
   ]
  },
  {
   "cell_type": "markdown",
   "metadata": {},
   "source": [
    "Одна из самых красивых и динамичных визуализаций - это [Bar Chart Race](https://pypi.org/project/bar-chart-race/). \n",
    "Выбери данные, которые интересно было бы визуализировать с помощью этой библиотеки, и поделись с ним со своими одногруппниками. \\\n",
    "Загрузи итоговую визуализацию на гит в формате .gif."
   ]
  },
  {
   "cell_type": "code",
   "execution_count": null,
   "metadata": {},
   "outputs": [],
   "source": [
    "# Код тут\n",
    "%pip install ffmpeg\n",
    "%pip install bar_chart_race\n",
    "%pip install python-ffmpeg\n"
   ]
  },
  {
   "cell_type": "code",
   "execution_count": 22,
   "metadata": {},
   "outputs": [
    {
     "name": "stderr",
     "output_type": "stream",
     "text": [
      "c:\\Users\\Саша\\AppData\\Local\\Programs\\Python\\Python311\\Lib\\site-packages\\matplotlib\\animation.py:884: UserWarning:\n",
      "\n",
      "Animation was deleted without rendering anything. This is most likely not intended. To prevent deletion, assign the Animation to a variable, e.g. `anim`, that exists until you output the Animation using `plt.show()` or `anim.save()`.\n",
      "\n",
      "c:\\Users\\Саша\\AppData\\Local\\Programs\\Python\\Python311\\Lib\\site-packages\\bar_chart_race\\_make_chart.py:284: UserWarning:\n",
      "\n",
      "Glyph 127 () missing from current font.\n",
      "\n",
      "c:\\Users\\Саша\\AppData\\Local\\Programs\\Python\\Python311\\Lib\\site-packages\\bar_chart_race\\_make_chart.py:284: UserWarning:\n",
      "\n",
      "Glyph 128 (\\x80) missing from current font.\n",
      "\n",
      "c:\\Users\\Саша\\AppData\\Local\\Programs\\Python\\Python311\\Lib\\site-packages\\bar_chart_race\\_make_chart.py:284: UserWarning:\n",
      "\n",
      "Glyph 129 (\\x81) missing from current font.\n",
      "\n",
      "c:\\Users\\Саша\\AppData\\Local\\Programs\\Python\\Python311\\Lib\\site-packages\\bar_chart_race\\_make_chart.py:284: UserWarning:\n",
      "\n",
      "Glyph 130 (\\x82) missing from current font.\n",
      "\n",
      "c:\\Users\\Саша\\AppData\\Local\\Programs\\Python\\Python311\\Lib\\site-packages\\bar_chart_race\\_make_chart.py:284: UserWarning:\n",
      "\n",
      "Glyph 131 (\\x83) missing from current font.\n",
      "\n",
      "c:\\Users\\Саша\\AppData\\Local\\Programs\\Python\\Python311\\Lib\\site-packages\\bar_chart_race\\_make_chart.py:284: UserWarning:\n",
      "\n",
      "Glyph 132 (\\x84) missing from current font.\n",
      "\n",
      "c:\\Users\\Саша\\AppData\\Local\\Programs\\Python\\Python311\\Lib\\site-packages\\bar_chart_race\\_make_chart.py:284: UserWarning:\n",
      "\n",
      "Glyph 133 (\\x85) missing from current font.\n",
      "\n",
      "c:\\Users\\Саша\\AppData\\Local\\Programs\\Python\\Python311\\Lib\\site-packages\\bar_chart_race\\_make_chart.py:284: UserWarning:\n",
      "\n",
      "Glyph 134 (\\x86) missing from current font.\n",
      "\n",
      "c:\\Users\\Саша\\AppData\\Local\\Programs\\Python\\Python311\\Lib\\site-packages\\bar_chart_race\\_make_chart.py:284: UserWarning:\n",
      "\n",
      "Glyph 135 (\\x87) missing from current font.\n",
      "\n",
      "c:\\Users\\Саша\\AppData\\Local\\Programs\\Python\\Python311\\Lib\\site-packages\\bar_chart_race\\_make_chart.py:284: UserWarning:\n",
      "\n",
      "Glyph 136 (\\x88) missing from current font.\n",
      "\n",
      "c:\\Users\\Саша\\AppData\\Local\\Programs\\Python\\Python311\\Lib\\site-packages\\bar_chart_race\\_make_chart.py:284: UserWarning:\n",
      "\n",
      "Glyph 137 (\\x89) missing from current font.\n",
      "\n",
      "c:\\Users\\Саша\\AppData\\Local\\Programs\\Python\\Python311\\Lib\\site-packages\\bar_chart_race\\_make_chart.py:284: UserWarning:\n",
      "\n",
      "Glyph 138 (\\x8a) missing from current font.\n",
      "\n",
      "c:\\Users\\Саша\\AppData\\Local\\Programs\\Python\\Python311\\Lib\\site-packages\\bar_chart_race\\_make_chart.py:284: UserWarning:\n",
      "\n",
      "Glyph 139 (\\x8b) missing from current font.\n",
      "\n",
      "c:\\Users\\Саша\\AppData\\Local\\Programs\\Python\\Python311\\Lib\\site-packages\\bar_chart_race\\_make_chart.py:284: UserWarning:\n",
      "\n",
      "Glyph 140 (\\x8c) missing from current font.\n",
      "\n",
      "c:\\Users\\Саша\\AppData\\Local\\Programs\\Python\\Python311\\Lib\\site-packages\\bar_chart_race\\_make_chart.py:284: UserWarning:\n",
      "\n",
      "Glyph 141 (\\x8d) missing from current font.\n",
      "\n",
      "c:\\Users\\Саша\\AppData\\Local\\Programs\\Python\\Python311\\Lib\\site-packages\\bar_chart_race\\_make_chart.py:284: UserWarning:\n",
      "\n",
      "Glyph 142 (\\x8e) missing from current font.\n",
      "\n",
      "c:\\Users\\Саша\\AppData\\Local\\Programs\\Python\\Python311\\Lib\\site-packages\\bar_chart_race\\_make_chart.py:284: UserWarning:\n",
      "\n",
      "Glyph 143 (\\x8f) missing from current font.\n",
      "\n",
      "c:\\Users\\Саша\\AppData\\Local\\Programs\\Python\\Python311\\Lib\\site-packages\\bar_chart_race\\_make_chart.py:284: UserWarning:\n",
      "\n",
      "Glyph 144 (\\x90) missing from current font.\n",
      "\n",
      "c:\\Users\\Саша\\AppData\\Local\\Programs\\Python\\Python311\\Lib\\site-packages\\bar_chart_race\\_make_chart.py:284: UserWarning:\n",
      "\n",
      "Glyph 145 (\\x91) missing from current font.\n",
      "\n",
      "c:\\Users\\Саша\\AppData\\Local\\Programs\\Python\\Python311\\Lib\\site-packages\\bar_chart_race\\_make_chart.py:284: UserWarning:\n",
      "\n",
      "Glyph 146 (\\x92) missing from current font.\n",
      "\n",
      "c:\\Users\\Саша\\AppData\\Local\\Programs\\Python\\Python311\\Lib\\site-packages\\bar_chart_race\\_make_chart.py:284: UserWarning:\n",
      "\n",
      "Glyph 147 (\\x93) missing from current font.\n",
      "\n",
      "c:\\Users\\Саша\\AppData\\Local\\Programs\\Python\\Python311\\Lib\\site-packages\\bar_chart_race\\_make_chart.py:284: UserWarning:\n",
      "\n",
      "Glyph 148 (\\x94) missing from current font.\n",
      "\n",
      "c:\\Users\\Саша\\AppData\\Local\\Programs\\Python\\Python311\\Lib\\site-packages\\bar_chart_race\\_make_chart.py:284: UserWarning:\n",
      "\n",
      "Glyph 149 (\\x95) missing from current font.\n",
      "\n",
      "c:\\Users\\Саша\\AppData\\Local\\Programs\\Python\\Python311\\Lib\\site-packages\\bar_chart_race\\_make_chart.py:284: UserWarning:\n",
      "\n",
      "Glyph 150 (\\x96) missing from current font.\n",
      "\n",
      "c:\\Users\\Саша\\AppData\\Local\\Programs\\Python\\Python311\\Lib\\site-packages\\bar_chart_race\\_make_chart.py:284: UserWarning:\n",
      "\n",
      "Glyph 151 (\\x97) missing from current font.\n",
      "\n",
      "c:\\Users\\Саша\\AppData\\Local\\Programs\\Python\\Python311\\Lib\\site-packages\\bar_chart_race\\_make_chart.py:284: UserWarning:\n",
      "\n",
      "Glyph 152 (\\x98) missing from current font.\n",
      "\n",
      "c:\\Users\\Саша\\AppData\\Local\\Programs\\Python\\Python311\\Lib\\site-packages\\bar_chart_race\\_make_chart.py:284: UserWarning:\n",
      "\n",
      "Glyph 153 (\\x99) missing from current font.\n",
      "\n",
      "c:\\Users\\Саша\\AppData\\Local\\Programs\\Python\\Python311\\Lib\\site-packages\\bar_chart_race\\_make_chart.py:284: UserWarning:\n",
      "\n",
      "Glyph 154 (\\x9a) missing from current font.\n",
      "\n",
      "c:\\Users\\Саша\\AppData\\Local\\Programs\\Python\\Python311\\Lib\\site-packages\\bar_chart_race\\_make_chart.py:284: UserWarning:\n",
      "\n",
      "Glyph 155 (\\x9b) missing from current font.\n",
      "\n",
      "c:\\Users\\Саша\\AppData\\Local\\Programs\\Python\\Python311\\Lib\\site-packages\\bar_chart_race\\_make_chart.py:284: UserWarning:\n",
      "\n",
      "Glyph 156 (\\x9c) missing from current font.\n",
      "\n",
      "c:\\Users\\Саша\\AppData\\Local\\Programs\\Python\\Python311\\Lib\\site-packages\\bar_chart_race\\_make_chart.py:284: UserWarning:\n",
      "\n",
      "Glyph 157 (\\x9d) missing from current font.\n",
      "\n",
      "c:\\Users\\Саша\\AppData\\Local\\Programs\\Python\\Python311\\Lib\\site-packages\\bar_chart_race\\_make_chart.py:284: UserWarning:\n",
      "\n",
      "Glyph 158 (\\x9e) missing from current font.\n",
      "\n",
      "c:\\Users\\Саша\\AppData\\Local\\Programs\\Python\\Python311\\Lib\\site-packages\\bar_chart_race\\_make_chart.py:284: UserWarning:\n",
      "\n",
      "Glyph 159 (\\x9f) missing from current font.\n",
      "\n",
      "c:\\Users\\Саша\\AppData\\Local\\Programs\\Python\\Python311\\Lib\\site-packages\\bar_chart_race\\_make_chart.py:286: UserWarning:\n",
      "\n",
      "FixedFormatter should only be used together with FixedLocator\n",
      "\n",
      "c:\\Users\\Саша\\AppData\\Local\\Programs\\Python\\Python311\\Lib\\site-packages\\bar_chart_race\\_make_chart.py:287: UserWarning:\n",
      "\n",
      "FixedFormatter should only be used together with FixedLocator\n",
      "\n"
     ]
    },
    {
     "ename": "Exception",
     "evalue": "You do not have ffmpeg installed on your machine. Download\n                            ffmpeg from here: https://www.ffmpeg.org/download.html.\n                            \n                            Matplotlib's original error message below:\n\n                            Requested MovieWriter (ffmpeg) not available\n                            ",
     "output_type": "error",
     "traceback": [
      "\u001b[1;31m---------------------------------------------------------------------------\u001b[0m",
      "\u001b[1;31mRuntimeError\u001b[0m                              Traceback (most recent call last)",
      "File \u001b[1;32mc:\\Users\\Саша\\AppData\\Local\\Programs\\Python\\Python311\\Lib\\site-packages\\bar_chart_race\\_make_chart.py:428\u001b[0m, in \u001b[0;36m_BarChartRace.make_animation\u001b[1;34m(self)\u001b[0m\n\u001b[0;32m    427\u001b[0m \u001b[39mif\u001b[39;00m \u001b[39mself\u001b[39m\u001b[39m.\u001b[39mhtml:\n\u001b[1;32m--> 428\u001b[0m     ret_val \u001b[39m=\u001b[39m anim\u001b[39m.\u001b[39;49mto_html5_video()\n\u001b[0;32m    429\u001b[0m     \u001b[39mtry\u001b[39;00m:\n",
      "File \u001b[1;32mc:\\Users\\Саша\\AppData\\Local\\Programs\\Python\\Python311\\Lib\\site-packages\\matplotlib\\animation.py:1284\u001b[0m, in \u001b[0;36mAnimation.to_html5_video\u001b[1;34m(self, embed_limit)\u001b[0m\n\u001b[0;32m   1282\u001b[0m \u001b[39m# We create a writer manually so that we can get the\u001b[39;00m\n\u001b[0;32m   1283\u001b[0m \u001b[39m# appropriate size for the tag\u001b[39;00m\n\u001b[1;32m-> 1284\u001b[0m Writer \u001b[39m=\u001b[39m writers[mpl\u001b[39m.\u001b[39;49mrcParams[\u001b[39m'\u001b[39;49m\u001b[39manimation.writer\u001b[39;49m\u001b[39m'\u001b[39;49m]]\n\u001b[0;32m   1285\u001b[0m writer \u001b[39m=\u001b[39m Writer(codec\u001b[39m=\u001b[39m\u001b[39m'\u001b[39m\u001b[39mh264\u001b[39m\u001b[39m'\u001b[39m,\n\u001b[0;32m   1286\u001b[0m                 bitrate\u001b[39m=\u001b[39mmpl\u001b[39m.\u001b[39mrcParams[\u001b[39m'\u001b[39m\u001b[39manimation.bitrate\u001b[39m\u001b[39m'\u001b[39m],\n\u001b[0;32m   1287\u001b[0m                 fps\u001b[39m=\u001b[39m\u001b[39m1000.\u001b[39m \u001b[39m/\u001b[39m \u001b[39mself\u001b[39m\u001b[39m.\u001b[39m_interval)\n",
      "File \u001b[1;32mc:\\Users\\Саша\\AppData\\Local\\Programs\\Python\\Python311\\Lib\\site-packages\\matplotlib\\animation.py:148\u001b[0m, in \u001b[0;36mMovieWriterRegistry.__getitem__\u001b[1;34m(self, name)\u001b[0m\n\u001b[0;32m    147\u001b[0m     \u001b[39mreturn\u001b[39;00m \u001b[39mself\u001b[39m\u001b[39m.\u001b[39m_registered[name]\n\u001b[1;32m--> 148\u001b[0m \u001b[39mraise\u001b[39;00m \u001b[39mRuntimeError\u001b[39;00m(\u001b[39mf\u001b[39m\u001b[39m\"\u001b[39m\u001b[39mRequested MovieWriter (\u001b[39m\u001b[39m{\u001b[39;00mname\u001b[39m}\u001b[39;00m\u001b[39m) not available\u001b[39m\u001b[39m\"\u001b[39m)\n",
      "\u001b[1;31mRuntimeError\u001b[0m: Requested MovieWriter (ffmpeg) not available",
      "\nDuring handling of the above exception, another exception occurred:\n",
      "\u001b[1;31mException\u001b[0m                                 Traceback (most recent call last)",
      "Cell \u001b[1;32mIn[22], line 11\u001b[0m\n\u001b[0;32m      8\u001b[0m df \u001b[39m=\u001b[39m df\u001b[39m.\u001b[39mset_index(\u001b[39m'\u001b[39m\u001b[39mdate\u001b[39m\u001b[39m'\u001b[39m)\n\u001b[0;32m     10\u001b[0m \u001b[39m#рисуем гифку \u001b[39;00m\n\u001b[1;32m---> 11\u001b[0m bcr\u001b[39m.\u001b[39;49mbar_chart_race(df, n_bars\u001b[39m=\u001b[39;49m\u001b[39m10\u001b[39;49m, fixed_max\u001b[39m=\u001b[39;49m\u001b[39mTrue\u001b[39;49;00m, \u001b[39m# n_bars - кол-во отображаемых столбцов (топ10)б fixed_max = True - устанавливаем размеры оси с населением по максимальному значению \u001b[39;49;00m\n\u001b[0;32m     12\u001b[0m                    figsize\u001b[39m=\u001b[39;49m(\u001b[39m9\u001b[39;49m, \u001b[39m6\u001b[39;49m), dpi\u001b[39m=\u001b[39;49m\u001b[39m100\u001b[39;49m, title\u001b[39m=\u001b[39;49m\u001b[39m'\u001b[39;49m\u001b[39mТоп страны по населению\u001b[39;49m\u001b[39m'\u001b[39;49m, \u001b[39m#размеры, разрешение и название\u001b[39;49;00m\n\u001b[0;32m     13\u001b[0m \u001b[39m#                    shared_fontdict={'family': 'Arial',\u001b[39;49;00m\n\u001b[0;32m     14\u001b[0m \u001b[39m#                                     'color': 'rebeccapurple'}, #настройки шрифта (шрифт_+цвет)\u001b[39;49;00m\n\u001b[0;32m     15\u001b[0m                     bar_label_size\u001b[39m=\u001b[39;49m\u001b[39m8\u001b[39;49m, \u001b[39m# размеры подписей\u001b[39;49;00m\n\u001b[0;32m     16\u001b[0m                     tick_label_size\u001b[39m=\u001b[39;49m\u001b[39m8\u001b[39;49m,)\n\u001b[0;32m     19\u001b[0m \u001b[39m# будут вылазить предупреждеия (и много!) - игнорирем, какая-то шляпа со шрифтами\u001b[39;00m\n",
      "File \u001b[1;32mc:\\Users\\Саша\\AppData\\Local\\Programs\\Python\\Python311\\Lib\\site-packages\\bar_chart_race\\_make_chart.py:783\u001b[0m, in \u001b[0;36mbar_chart_race\u001b[1;34m(df, filename, orientation, sort, n_bars, fixed_order, fixed_max, steps_per_period, period_length, interpolate_period, label_bars, bar_size, period_label, period_fmt, period_summary_func, perpendicular_bar_func, figsize, cmap, title, title_size, bar_label_size, tick_label_size, shared_fontdict, scale, writer, fig, dpi, bar_kwargs, filter_column_colors)\u001b[0m\n\u001b[0;32m    461\u001b[0m \u001b[39m\u001b[39m\u001b[39m'''\u001b[39;00m\n\u001b[0;32m    462\u001b[0m \u001b[39mCreate an animated bar chart race using matplotlib. Data must be in \u001b[39;00m\n\u001b[0;32m    463\u001b[0m \u001b[39m'wide' format where each row represents a single time period and each \u001b[39;00m\n\u001b[1;32m   (...)\u001b[0m\n\u001b[0;32m    776\u001b[0m \u001b[39mThese sizes are relative to plt.rcParams['font.size'].\u001b[39;00m\n\u001b[0;32m    777\u001b[0m \u001b[39m'''\u001b[39;00m\n\u001b[0;32m    778\u001b[0m bcr \u001b[39m=\u001b[39m _BarChartRace(df, filename, orientation, sort, n_bars, fixed_order, fixed_max,\n\u001b[0;32m    779\u001b[0m                     steps_per_period, period_length, interpolate_period, label_bars, bar_size, \n\u001b[0;32m    780\u001b[0m                     period_label, period_fmt, period_summary_func, perpendicular_bar_func, \n\u001b[0;32m    781\u001b[0m                     figsize, cmap, title, title_size, bar_label_size, tick_label_size, \n\u001b[0;32m    782\u001b[0m                     shared_fontdict, scale, writer, fig, dpi, bar_kwargs, filter_column_colors)\n\u001b[1;32m--> 783\u001b[0m \u001b[39mreturn\u001b[39;00m bcr\u001b[39m.\u001b[39;49mmake_animation()\n",
      "File \u001b[1;32mc:\\Users\\Саша\\AppData\\Local\\Programs\\Python\\Python311\\Lib\\site-packages\\bar_chart_race\\_make_chart.py:446\u001b[0m, in \u001b[0;36m_BarChartRace.make_animation\u001b[1;34m(self)\u001b[0m\n\u001b[0;32m    444\u001b[0m     \u001b[39melse\u001b[39;00m:\n\u001b[0;32m    445\u001b[0m         message \u001b[39m=\u001b[39m \u001b[39mstr\u001b[39m(e)\n\u001b[1;32m--> 446\u001b[0m     \u001b[39mraise\u001b[39;00m \u001b[39mException\u001b[39;00m(message)\n\u001b[0;32m    447\u001b[0m \u001b[39mfinally\u001b[39;00m:\n\u001b[0;32m    448\u001b[0m     plt\u001b[39m.\u001b[39mrcParams \u001b[39m=\u001b[39m \u001b[39mself\u001b[39m\u001b[39m.\u001b[39morig_rcParams\n",
      "\u001b[1;31mException\u001b[0m: You do not have ffmpeg installed on your machine. Download\n                            ffmpeg from here: https://www.ffmpeg.org/download.html.\n                            \n                            Matplotlib's original error message below:\n\n                            Requested MovieWriter (ffmpeg) not available\n                            "
     ]
    }
   ],
   "source": [
    "import bar_chart_race as bcr\n",
    "import pandas as pd\n",
    "\n",
    "# грузим датафрейм для отображения (у нас - население стран по годам)\n",
    "df =  pd.read_csv(r'pop2.csv', low_memory=False, sep='\\t')\n",
    "\n",
    "#делаем первый столбец как индекс (нужно для легенды графика, берется информация из индекса)\n",
    "df = df.set_index('date')\n",
    "\n",
    "#рисуем гифку \n",
    "bcr.bar_chart_race(df, n_bars=10, fixed_max=True, # n_bars - кол-во отображаемых столбцов (топ10)б fixed_max = True - устанавливаем размеры оси с населением по максимальному значению \n",
    "                   figsize=(9, 6), dpi=100, title='Топ страны по населению', #размеры, разрешение и название\n",
    "#                    shared_fontdict={'family': 'Arial',\n",
    "#                                     'color': 'rebeccapurple'}, #настройки шрифта (шрифт_+цвет)\n",
    "                    bar_label_size=8, # размеры подписей\n",
    "                    tick_label_size=8,)\n",
    "\n",
    "\n",
    "# будут вылазить предупреждеия (и много!) - игнорирем, какая-то шляпа со шрифтами"
   ]
  }
 ],
 "metadata": {
  "kernelspec": {
   "display_name": "Python 3 (ipykernel)",
   "language": "python",
   "name": "python3"
  },
  "language_info": {
   "codemirror_mode": {
    "name": "ipython",
    "version": 3
   },
   "file_extension": ".py",
   "mimetype": "text/x-python",
   "name": "python",
   "nbconvert_exporter": "python",
   "pygments_lexer": "ipython3",
   "version": "3.11.3"
  }
 },
 "nbformat": 4,
 "nbformat_minor": 4
}
